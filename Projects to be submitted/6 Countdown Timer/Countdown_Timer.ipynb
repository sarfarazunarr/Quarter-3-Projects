{
  "nbformat": 4,
  "nbformat_minor": 0,
  "metadata": {
    "colab": {
      "provenance": []
    },
    "kernelspec": {
      "name": "python3",
      "display_name": "Python 3"
    },
    "language_info": {
      "name": "python"
    }
  },
  "cells": [
    {
      "cell_type": "markdown",
      "source": [
        "# Countdown Timer\n",
        "It is a simple count down timer that will count your provided seconds."
      ],
      "metadata": {
        "id": "LM4ChbWgbWdJ"
      }
    },
    {
      "cell_type": "code",
      "execution_count": 11,
      "metadata": {
        "id": "GWXrF1ctahsG"
      },
      "outputs": [],
      "source": [
        "import time\n",
        "import sys"
      ]
    },
    {
      "cell_type": "code",
      "source": [
        "def countdown(t):\n",
        "  while t:\n",
        "    mins, sec = divmod(t, 60)\n",
        "    timer = '{:02d}:{:02d}'.format(mins, sec)\n",
        "    sys.stdout.write(\"\\r\" + timer)\n",
        "    sys.stdout.flush()\n",
        "    time.sleep(1)\n",
        "    t -= 1\n",
        "  print(\"\\n Time Up! \")"
      ],
      "metadata": {
        "id": "U0XzJLW-bxkI"
      },
      "execution_count": 14,
      "outputs": []
    },
    {
      "cell_type": "code",
      "source": [
        "t = int(input(\"Enter Seconds you wants to countdown: \"))\n",
        "countdown(t)"
      ],
      "metadata": {
        "colab": {
          "base_uri": "https://localhost:8080/"
        },
        "id": "mOQ2RrNqc0jC",
        "outputId": "ca02b99c-b123-422f-8eae-7125a37589ad"
      },
      "execution_count": 15,
      "outputs": [
        {
          "output_type": "stream",
          "name": "stdout",
          "text": [
            "Enter Seconds you wants to countdown: 25\n",
            "00:01\n",
            " Time Up! \n"
          ]
        }
      ]
    }
  ]
}