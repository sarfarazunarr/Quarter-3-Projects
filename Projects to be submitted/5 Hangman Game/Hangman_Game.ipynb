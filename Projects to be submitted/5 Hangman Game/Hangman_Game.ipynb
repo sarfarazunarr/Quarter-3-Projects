{
  "nbformat": 4,
  "nbformat_minor": 0,
  "metadata": {
    "colab": {
      "provenance": []
    },
    "kernelspec": {
      "name": "python3",
      "display_name": "Python 3"
    },
    "language_info": {
      "name": "python"
    }
  },
  "cells": [
    {
      "cell_type": "markdown",
      "source": [
        "# Hangman Game\n",
        "This is a simple game where user has to guess the spelling of a word and as he add wrong characters the attempts will be left off untill the attempts end. If he typed correct character then the attempts will be safe."
      ],
      "metadata": {
        "id": "3IvUivbcUUwL"
      }
    },
    {
      "cell_type": "code",
      "source": [
        "import random"
      ],
      "metadata": {
        "id": "xoLCZWe3UUXb"
      },
      "execution_count": 7,
      "outputs": []
    },
    {
      "cell_type": "code",
      "source": [
        "words = \"apple banana mango strawberry orange grape pineapple lemon coconut watermelon cherry papaya berry peach karachi giaic\".split()"
      ],
      "metadata": {
        "id": "9eD8qI3qU-Xv"
      },
      "execution_count": 8,
      "outputs": []
    },
    {
      "cell_type": "code",
      "source": [
        "random_word = random.choice(words).upper()\n",
        "blank_word = \"_\"* len(random_word)\n",
        "total_chances = 10\n",
        "\n",
        "while total_chances != 0:\n",
        "    print(blank_word)\n",
        "    letter = input('Guess a letter: ').upper()\n",
        "    if letter in random_word:\n",
        "        for index in range(len(random_word)):\n",
        "            if(random_word[index]==letter):\n",
        "                blank_word = blank_word[:index]+letter+blank_word[index+1:]\n",
        "        if(blank_word == random_word):\n",
        "            print(blank_word)\n",
        "            print('Great Bro! You Win🤗')\n",
        "            break\n",
        "    else:\n",
        "        total_chances -= 1\n",
        "        print('Oh Failed')\n",
        "        print('Remaining chances', total_chances)\n",
        "else:\n",
        "    print('Game Over')\n",
        "    print('You Lose')\n",
        "    print('All the chances are exhausted')\n",
        "    print('The Correct word is', random_word)"
      ],
      "metadata": {
        "colab": {
          "base_uri": "https://localhost:8080/"
        },
        "id": "X57Isr6VVI-y",
        "outputId": "db5c125f-e86d-4611-f975-6052ba241aa1"
      },
      "execution_count": 11,
      "outputs": [
        {
          "output_type": "stream",
          "name": "stdout",
          "text": [
            "_____\n",
            "Guess a letter: h\n",
            "Oh Failed\n",
            "Remaining chances 9\n",
            "_____\n",
            "Guess a letter: N\n",
            "Oh Failed\n",
            "Remaining chances 8\n",
            "_____\n",
            "Guess a letter: O\n",
            "Oh Failed\n",
            "Remaining chances 7\n",
            "_____\n",
            "Guess a letter: A\n",
            "A____\n",
            "Guess a letter: P\n",
            "APP__\n",
            "Guess a letter: L\n",
            "APPL_\n",
            "Guess a letter: N\n",
            "Oh Failed\n",
            "Remaining chances 6\n",
            "APPL_\n",
            "Guess a letter: E\n",
            "APPLE\n",
            "Great Bro! You Win🤗\n"
          ]
        }
      ]
    }
  ]
}