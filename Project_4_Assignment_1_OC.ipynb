{
  "nbformat": 4,
  "nbformat_minor": 0,
  "metadata": {
    "colab": {
      "provenance": []
    },
    "kernelspec": {
      "name": "python3",
      "display_name": "Python 3"
    },
    "language_info": {
      "name": "python"
    }
  },
  "cells": [
    {
      "cell_type": "markdown",
      "source": [
        "# Project 4 Assignment 1 OC\n",
        "In this assigment we have to following tasks:\n",
        "* joke_bot\n",
        "* double it\n",
        "* lift off\n",
        "* guess my number\n",
        "* random number"
      ],
      "metadata": {
        "id": "r4I9u35XPFPN"
      }
    },
    {
      "cell_type": "markdown",
      "source": [
        "## Joke Bot\n",
        "Write a simple joke bot. The bot starts by asking the user what they want. However, your program will only respond to one response: Joke."
      ],
      "metadata": {
        "id": "NpNlkPqQQWKy"
      }
    },
    {
      "cell_type": "code",
      "execution_count": 4,
      "metadata": {
        "colab": {
          "base_uri": "https://localhost:8080/"
        },
        "id": "gN1lv1cqPA8b",
        "outputId": "2150d9d5-0c68-4f33-a411-b4e8021a6377"
      },
      "outputs": [
        {
          "output_type": "stream",
          "name": "stdout",
          "text": [
            "Enter What you want: jjoke\n",
            "sorry\n"
          ]
        }
      ],
      "source": [
        "def tell_me_joke():\n",
        "  user = input(\"Enter What you want: \").lower()\n",
        "\n",
        "  if user == 'joke':\n",
        "    print(\"\"\"\n",
        "    He had a few \"cross\" words to say!\n",
        "Why did the Rabbi bring a ladder to the party?\n",
        "Because he heard the drinks were on the house!\"\"\")\n",
        "  else:\n",
        "    print(\"sorry\")\n",
        "\n",
        "tell_me_joke()"
      ]
    },
    {
      "cell_type": "markdown",
      "source": [
        "## Double it\n",
        "Write a program that asks a user to enter a number. Your program will then double that number and print out the result. It will repeat that process until the value is 100 or greater."
      ],
      "metadata": {
        "id": "8ZPN7QmjQqy0"
      }
    },
    {
      "cell_type": "code",
      "source": [
        "def double_it():\n",
        "  value = int(input(\"Enter a number: \"))\n",
        "\n",
        "  while value < 100:\n",
        "    value = value * 2\n",
        "    print(value)\n",
        "\n",
        "double_it()"
      ],
      "metadata": {
        "colab": {
          "base_uri": "https://localhost:8080/"
        },
        "id": "m6sbEUjRQywU",
        "outputId": "4eefd209-a8b3-4994-a290-35d568959c22"
      },
      "execution_count": 5,
      "outputs": [
        {
          "output_type": "stream",
          "name": "stdout",
          "text": [
            "Enter a number: 2\n",
            "4\n",
            "8\n",
            "16\n",
            "32\n",
            "64\n",
            "128\n"
          ]
        }
      ]
    },
    {
      "cell_type": "markdown",
      "source": [
        "## Lift off\n",
        "Write a program that prints out the calls for a spaceship that is about to launch. Countdown from 10 to 1 and then output Liftoff!"
      ],
      "metadata": {
        "id": "HdCaH_j_RHLR"
      }
    },
    {
      "cell_type": "code",
      "source": [
        "def lift_off():\n",
        "  max_value = 10\n",
        "  while max_value > 0:\n",
        "    print(max_value)\n",
        "    max_value -= 1\n",
        "  print(\"Liftoff!\")\n",
        "\n",
        "lift_off()"
      ],
      "metadata": {
        "colab": {
          "base_uri": "https://localhost:8080/"
        },
        "id": "D9PuOsQaRLmw",
        "outputId": "50e15234-08b4-4a62-d023-df6299059f82"
      },
      "execution_count": 6,
      "outputs": [
        {
          "output_type": "stream",
          "name": "stdout",
          "text": [
            "10\n",
            "9\n",
            "8\n",
            "7\n",
            "6\n",
            "5\n",
            "4\n",
            "3\n",
            "2\n",
            "1\n",
            "Liftoff!\n"
          ]
        }
      ]
    },
    {
      "cell_type": "markdown",
      "source": [
        "## Guuess My Number\n",
        "I am thinking of a number between 0 and 99..."
      ],
      "metadata": {
        "id": "7xADJvXvRaZX"
      }
    },
    {
      "cell_type": "code",
      "source": [
        "import random\n",
        "\n",
        "def guess_number():\n",
        "  print(\"I have thinked a number, you have to guess it.\")\n",
        "  value = random.randint(0, 99)\n",
        "  guess = int(input(\"Enter your guess: \"))\n",
        "  while guess != value:\n",
        "    if guess > value:\n",
        "      print(\"Value is high\")\n",
        "    elif guess < value:\n",
        "      print(\"Value is low\")\n",
        "    guess = int(input(\"Enter your guess: \"))\n",
        "  print(\"You guessed it!\")\n",
        "\n",
        "guess_number()"
      ],
      "metadata": {
        "colab": {
          "base_uri": "https://localhost:8080/"
        },
        "id": "e-wSxmqpRdu2",
        "outputId": "ddc8e72f-2fb1-4922-d4c6-99a2d8fc771d"
      },
      "execution_count": 7,
      "outputs": [
        {
          "output_type": "stream",
          "name": "stdout",
          "text": [
            "I have thinked a number, you have to guess it.\n",
            "Enter your guess: 12\n",
            "Value is low\n",
            "Enter your guess: 50\n",
            "Value is low\n",
            "Enter your guess: 80\n",
            "Value is low\n",
            "Enter your guess: 90\n",
            "Value is low\n",
            "Enter your guess: 98\n",
            "Value is high\n",
            "Enter your guess: 95\n",
            "Value is high\n",
            "Enter your guess: 93\n",
            "You guessed it!\n"
          ]
        }
      ]
    },
    {
      "cell_type": "markdown",
      "source": [
        "## Random Number\n",
        "Print 10 random numbers in the range 1 to 100."
      ],
      "metadata": {
        "id": "6x65kZuqUCW8"
      }
    },
    {
      "cell_type": "code",
      "source": [
        "def rand_nums():\n",
        "  for i in range(10):\n",
        "    print(random.randint(1, 100))\n",
        "\n",
        "rand_nums();"
      ],
      "metadata": {
        "colab": {
          "base_uri": "https://localhost:8080/"
        },
        "id": "u_pa7z-bULX9",
        "outputId": "08ee2ea8-46af-4dcd-8a38-2b07c5aa52b1"
      },
      "execution_count": 8,
      "outputs": [
        {
          "output_type": "stream",
          "name": "stdout",
          "text": [
            "63\n",
            "93\n",
            "59\n",
            "99\n",
            "37\n",
            "92\n",
            "58\n",
            "45\n",
            "23\n",
            "9\n"
          ]
        }
      ]
    }
  ]
}