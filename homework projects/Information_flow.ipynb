{
  "nbformat": 4,
  "nbformat_minor": 0,
  "metadata": {
    "colab": {
      "provenance": []
    },
    "kernelspec": {
      "name": "python3",
      "display_name": "Python 3"
    },
    "language_info": {
      "name": "python"
    }
  },
  "cells": [
    {
      "cell_type": "markdown",
      "source": [
        "# Information Flow\n",
        "In this assignment we will do following tasks:\n",
        "* Choosing Returns\n",
        "* Greetings\n",
        "* In Range\n",
        "* In Stock\n",
        "* Multiple Returns\n",
        "* Subtract 7"
      ],
      "metadata": {
        "id": "ArH8g_xA8Znt"
      }
    },
    {
      "cell_type": "markdown",
      "source": [
        "## Choosing Returns\n",
        "There are times where we want to return different things from a function based on some condition. To practice this idea, imagine that we want to check if someone is an adult. We might check their age and return different things depending on how old they are!"
      ],
      "metadata": {
        "id": "ol63Qub-8vmL"
      }
    },
    {
      "cell_type": "code",
      "execution_count": 2,
      "metadata": {
        "colab": {
          "base_uri": "https://localhost:8080/"
        },
        "id": "RgRHDQU98Qhi",
        "outputId": "db00b8df-6443-4c2f-ae0e-0d9aa281a01a"
      },
      "outputs": [
        {
          "output_type": "stream",
          "name": "stdout",
          "text": [
            "False\n"
          ]
        }
      ],
      "source": [
        "def isAdult(value):\n",
        "  if value >= 18:\n",
        "    return True\n",
        "  else: return False\n",
        "\n",
        "print(isAdult(17))"
      ]
    },
    {
      "cell_type": "markdown",
      "source": [
        "## Greetings\n",
        "We've written a helper function for you called greet(name) which takes as input a string name and prints a greeting. Write some code in main() to get the user's name and then greet them, being sure to call the greet(name) helper function."
      ],
      "metadata": {
        "id": "pZYDo6149FBT"
      }
    },
    {
      "cell_type": "code",
      "source": [
        "def greeting(name):\n",
        "  return f\"Asslam u alaikum {name}\"\n",
        "\n",
        "greeting(\"Sarfaraz\")"
      ],
      "metadata": {
        "colab": {
          "base_uri": "https://localhost:8080/",
          "height": 35
        },
        "id": "lrF9U0Zg9Gr-",
        "outputId": "8c4bcfb6-544b-4a05-d89b-be0798a16ba8"
      },
      "execution_count": 3,
      "outputs": [
        {
          "output_type": "execute_result",
          "data": {
            "text/plain": [
              "'Asslam u alaikum Sarfaraz'"
            ],
            "application/vnd.google.colaboratory.intrinsic+json": {
              "type": "string"
            }
          },
          "metadata": {},
          "execution_count": 3
        }
      ]
    },
    {
      "cell_type": "markdown",
      "source": [
        "## In Range\n",
        "Implement the following function which takes in 3 integers as parameters:\n"
      ],
      "metadata": {
        "id": "338HbqUd9a3C"
      }
    },
    {
      "cell_type": "code",
      "source": [
        "def is_in_range(value, low, high):\n",
        "  if value >= low and value <= high:\n",
        "    return True\n",
        "  else: return False\n",
        "\n",
        "is_in_range(5, 1, 10)"
      ],
      "metadata": {
        "colab": {
          "base_uri": "https://localhost:8080/"
        },
        "id": "8Vk3eb7O9eOG",
        "outputId": "410e813d-91e4-4788-e6c2-6c6e4b04c9f3"
      },
      "execution_count": 4,
      "outputs": [
        {
          "output_type": "execute_result",
          "data": {
            "text/plain": [
              "True"
            ]
          },
          "metadata": {},
          "execution_count": 4
        }
      ]
    },
    {
      "cell_type": "markdown",
      "source": [
        "## Is In Stock\n",
        "Sophia has a fruit store. She has written a function num_in_stock which takes a string fruit as a parameter and returns how many of that fruit are in her inventory."
      ],
      "metadata": {
        "id": "8IcXCXuu9xJl"
      }
    },
    {
      "cell_type": "code",
      "source": [
        "fruits = {\"Apple\": 12, \"Orange\": 0, \"Watermelon\": 1, \"Banana\": 0, \"Mangoe\": 2}\n",
        "\n",
        "def is_in_stock(fruit):\n",
        "  if fruits[fruit] > 0:\n",
        "    return True\n",
        "  else: return False\n",
        "\n",
        "print(is_in_stock(\"Apple\"))\n",
        "print(is_in_stock(\"Orange\"))"
      ],
      "metadata": {
        "colab": {
          "base_uri": "https://localhost:8080/"
        },
        "id": "xQrq9_ZH9ygR",
        "outputId": "79b50521-7b29-4b95-c21d-d72196502551"
      },
      "execution_count": 6,
      "outputs": [
        {
          "output_type": "stream",
          "name": "stdout",
          "text": [
            "True\n",
            "False\n"
          ]
        }
      ]
    },
    {
      "cell_type": "markdown",
      "source": [
        "## Multiple Returns\n",
        "There are times where you are working with lots of different data within a function that you want to return. While generally, we want to keep functions to have a precise purpose, sometimes that purpose just deals with multiple bits of data.\n",
        "\n",
        "To practice this, imagine we are working on a program where the user needs to enters data to sign up for a website. Fill out the get_user_data() function which:\n",
        "\n",
        "Asks the user for their first name and stores it in a variable\n",
        "\n",
        "Asks the user for their last name and stores it in a variable\n",
        "\n",
        "Asks the user for their email address and stores it in a variable\n",
        "\n",
        "Returns all three of these pieces of data in the order it was asked\n",
        "\n",
        "You can return multiple pieces of data by separating each piece with a comma in the return line."
      ],
      "metadata": {
        "id": "CrZyaEvy-hrp"
      }
    },
    {
      "cell_type": "code",
      "source": [
        "def signup():\n",
        "  f_name = input(\"Enter first name: \")\n",
        "  l_name = input(\"Enter last name: \")\n",
        "  email = input(\"Enter email: \")\n",
        "  return f_name, l_name, email\n",
        "\n",
        "user_data = signup()\n",
        "print(f\"User details: {user_data}\")"
      ],
      "metadata": {
        "colab": {
          "base_uri": "https://localhost:8080/"
        },
        "id": "3dz02u4y-yUD",
        "outputId": "9cc4a68a-8fdd-4122-afa5-acc752835d50"
      },
      "execution_count": 9,
      "outputs": [
        {
          "output_type": "stream",
          "name": "stdout",
          "text": [
            "Enter first name: Sarfaraz\n",
            "Enter last name: Unar\n",
            "Enter email: sarfaraz\n",
            "User details: ('Sarfaraz', 'Unar', 'sarfaraz')\n"
          ]
        }
      ]
    },
    {
      "cell_type": "markdown",
      "source": [
        "## Subtract 7\n",
        "Fill out the subtract_seven helper function to subtract 7 from num, and fill out the main() method to call the subtract_seven helper function! If you're stuck, revisit the add_five example from lecture."
      ],
      "metadata": {
        "id": "xsxn6XiW_SZy"
      }
    },
    {
      "cell_type": "code",
      "source": [
        "def subtract_seven(num):\n",
        "  return num - 7\n",
        "\n",
        "value = subtract_seven(10)\n",
        "print(value)\n",
        "\n",
        "print(subtract_seven(115))"
      ],
      "metadata": {
        "colab": {
          "base_uri": "https://localhost:8080/"
        },
        "id": "FYAR-inF_hLy",
        "outputId": "1add40b0-adf0-404d-928b-2d64bcdf14fd"
      },
      "execution_count": 11,
      "outputs": [
        {
          "output_type": "stream",
          "name": "stdout",
          "text": [
            "3\n",
            "108\n"
          ]
        }
      ]
    }
  ]
}