{
  "nbformat": 4,
  "nbformat_minor": 0,
  "metadata": {
    "colab": {
      "provenance": []
    },
    "kernelspec": {
      "name": "python3",
      "display_name": "Python 3"
    },
    "language_info": {
      "name": "python"
    }
  },
  "cells": [
    {
      "cell_type": "markdown",
      "source": [
        "# Assignment 00-05 Loop Control Flow\n",
        "In this assignment we have to done following tasks:\n",
        "* Guess My Number\n",
        "* Fibonacci\n",
        "* Print Evens\n",
        "* Wholesome Machine\n",
        "* Lift Off\n",
        "* Double It"
      ],
      "metadata": {
        "id": "bGR0eOPfgcer"
      }
    },
    {
      "cell_type": "markdown",
      "source": [
        "## Guess My Number\n",
        "\n",
        "I am thinking of a number between 0 and 99... You have to guess it"
      ],
      "metadata": {
        "id": "V45Hrqj0gvtd"
      }
    },
    {
      "cell_type": "code",
      "execution_count": null,
      "metadata": {
        "colab": {
          "base_uri": "https://localhost:8080/"
        },
        "id": "5bClw_A2e2gp",
        "outputId": "c0bd23c1-4fa4-4cff-c25f-d4046d462754"
      },
      "outputs": [
        {
          "output_type": "stream",
          "name": "stdout",
          "text": [
            "Enter a guess: 52\n",
            "Your guess is too high\n",
            "\n",
            "Enter a new guess: 32\n",
            "Your guess is too low\n",
            "\n",
            "Enter a new guess: 42\n",
            "Your guess is too low\n",
            "\n",
            "Enter a new guess: 45\n",
            "Your guess is too low\n",
            "\n",
            "Enter a new guess: 48\n",
            "Your guess is too high\n",
            "\n",
            "Enter a new guess: 46\n",
            "Congrats! The number was: 46\n"
          ]
        }
      ],
      "source": [
        "import random\n",
        "def guessTheValue():\n",
        "  secret_number = random.randint(0, 100)\n",
        "  guess = int(input(\"Enter a guess: \"))\n",
        "    # True if guess is not equal to secret number\n",
        "  while guess != secret_number:\n",
        "      if guess < secret_number:  # If-statement is True if guess is less than secret number\n",
        "          print(\"Your guess is too low\")\n",
        "      else:\n",
        "          print(\"Your guess is too high\")\n",
        "\n",
        "      print() # Print an empty line to tidy up the console for new guesses\n",
        "      guess = int(input(\"Enter a new guess: \"))  # Get a new guess from the user\n",
        "\n",
        "  print(\"Congrats! The number was: \" + str(secret_number))\n",
        "\n",
        "guessTheValue()"
      ]
    },
    {
      "cell_type": "markdown",
      "source": [
        "## Fibonacci Number\n",
        "Write a program to print terms in the Fibonacci sequence up to a maximum value.\n",
        "MAX_VALUE = 1000"
      ],
      "metadata": {
        "id": "nmeEtxihfwjt"
      }
    },
    {
      "cell_type": "code",
      "source": [
        "MAX_VALUE = 1000\n",
        "\n",
        "def get_fibonacci():\n",
        "  curr_val = 0\n",
        "  next_val = 1\n",
        "\n",
        "  while curr_val <= MAX_VALUE:\n",
        "    print(curr_val)\n",
        "    curr_val, next_val = next_val, curr_val + next_val\n",
        "\n",
        "get_fibonacci()"
      ],
      "metadata": {
        "colab": {
          "base_uri": "https://localhost:8080/"
        },
        "id": "uNvlamtQju7M",
        "outputId": "bbca0bd8-6461-42e8-aafc-86dfd07460e2"
      },
      "execution_count": 1,
      "outputs": [
        {
          "output_type": "stream",
          "name": "stdout",
          "text": [
            "0\n",
            "1\n",
            "1\n",
            "2\n",
            "3\n",
            "5\n",
            "8\n",
            "13\n",
            "21\n",
            "34\n",
            "55\n",
            "89\n",
            "144\n",
            "233\n",
            "377\n",
            "610\n",
            "987\n"
          ]
        }
      ]
    },
    {
      "cell_type": "markdown",
      "source": [
        "## Print Evens\n",
        "Write a program that prints the first 20 even numbers."
      ],
      "metadata": {
        "id": "AF_wMAEXQn9A"
      }
    },
    {
      "cell_type": "code",
      "source": [
        "def printEvens():\n",
        "  vals = 0\n",
        "  i = 0\n",
        "  while vals <= 20:\n",
        "    if i % 2 == 0:\n",
        "      print(i)\n",
        "      vals += 1\n",
        "    i += 1\n",
        "\n",
        "printEvens()\n"
      ],
      "metadata": {
        "colab": {
          "base_uri": "https://localhost:8080/"
        },
        "id": "TAAbaWGGQrcT",
        "outputId": "72e57ce7-c851-4fde-9f75-a45372b08225"
      },
      "execution_count": 2,
      "outputs": [
        {
          "output_type": "stream",
          "name": "stdout",
          "text": [
            "0\n",
            "2\n",
            "4\n",
            "6\n",
            "8\n",
            "10\n",
            "12\n",
            "14\n",
            "16\n",
            "18\n",
            "20\n",
            "22\n",
            "24\n",
            "26\n",
            "28\n",
            "30\n",
            "32\n",
            "34\n",
            "36\n",
            "38\n",
            "40\n"
          ]
        }
      ]
    },
    {
      "cell_type": "markdown",
      "source": [
        "## Wholesome Machine\n",
        "Write a program which prompts the user to type an affirmation of your choice (we'll use \"I am capable of doing anything I put my mind to.\") until they type it correctly."
      ],
      "metadata": {
        "id": "pn_vIOA-XwcI"
      }
    },
    {
      "cell_type": "code",
      "source": [
        "AFFIRMATION = \"I wants to Delete this repo.\"\n",
        "\n",
        "def confirm_to_delete():\n",
        "  print(f\"Do you wants to delete? \\n Write affirmation \\\"{AFFIRMATION}\\\"\")\n",
        "  aff = input(\"> \")\n",
        "  while aff != AFFIRMATION:\n",
        "    print(\"Uh ho! You have typed wrong, try again\")\n",
        "\n",
        "    print(f\"Do you wants to delete? \\n Write affirmation \\\"{AFFIRMATION}\\\"\")\n",
        "    aff = input(\"> \")\n",
        "  print(\"Deleted Successfully!\")\n",
        "\n",
        "confirm_to_delete()"
      ],
      "metadata": {
        "colab": {
          "base_uri": "https://localhost:8080/"
        },
        "id": "KK7WRJHXYLmu",
        "outputId": "bec2b81e-19c1-47b0-93d2-a77359de09e6"
      },
      "execution_count": 4,
      "outputs": [
        {
          "output_type": "stream",
          "name": "stdout",
          "text": [
            "Do you wants to delete? \n",
            " Write affirmation \"I wants to Delete this repo.\"\n",
            "> I want to Delete this repo\n",
            "Uh ho! You have typed wrong, try again\n",
            "Do you wants to delete? \n",
            " Write affirmation \"I wants to Delete this repo.\"\n",
            "> I wants to Delete this repo.\n",
            "Deleted Successfully!\n"
          ]
        }
      ]
    },
    {
      "cell_type": "markdown",
      "source": [
        "## Lift off\n",
        "Write a program that prints out the calls for a spaceship that is about to launch. Countdown from 10 to 1 and then output Liftoff!"
      ],
      "metadata": {
        "id": "JHU2LWnEbBBB"
      }
    },
    {
      "cell_type": "code",
      "source": [
        "def liftoff():\n",
        "  i = 10\n",
        "  while i >= 0:\n",
        "    print(i, end=\" \")\n",
        "    i -= 1\n",
        "  print(\"Liftoff\")\n",
        "\n",
        "liftoff()"
      ],
      "metadata": {
        "colab": {
          "base_uri": "https://localhost:8080/"
        },
        "id": "1pp62CPcbDRQ",
        "outputId": "376d860e-755a-492f-8aaa-c9c14aec352c"
      },
      "execution_count": 5,
      "outputs": [
        {
          "output_type": "stream",
          "name": "stdout",
          "text": [
            "10 9 8 7 6 5 4 3 2 1 0 Liftoff\n"
          ]
        }
      ]
    },
    {
      "cell_type": "markdown",
      "source": [
        "## Double It\n",
        "Write a program that asks a user to enter a number. Your program will then double that number and print out the result. It will repeat that process until the value is 100 or greater."
      ],
      "metadata": {
        "id": "lDjRX7cDbc-1"
      }
    },
    {
      "cell_type": "code",
      "source": [
        "def make_it_double():\n",
        "  value = int(input(\"Enter a number: \"))\n",
        "\n",
        "  while value < 100:\n",
        "    value *= 2\n",
        "    print(value)\n",
        "\n",
        "make_it_double()\n"
      ],
      "metadata": {
        "colab": {
          "base_uri": "https://localhost:8080/"
        },
        "id": "1gLcqQZlb1el",
        "outputId": "ef204971-65b5-4452-fe29-c87e3cc48c6e"
      },
      "execution_count": 6,
      "outputs": [
        {
          "output_type": "stream",
          "name": "stdout",
          "text": [
            "Enter a number: 2\n",
            "4\n",
            "8\n",
            "16\n",
            "32\n",
            "64\n",
            "128\n"
          ]
        }
      ]
    }
  ]
}