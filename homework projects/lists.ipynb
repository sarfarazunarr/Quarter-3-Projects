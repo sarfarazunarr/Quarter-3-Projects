{
  "nbformat": 4,
  "nbformat_minor": 0,
  "metadata": {
    "colab": {
      "provenance": []
    },
    "kernelspec": {
      "name": "python3",
      "display_name": "Python 3"
    },
    "language_info": {
      "name": "python"
    }
  },
  "cells": [
    {
      "cell_type": "markdown",
      "source": [
        "# Q3 Assignment 0-5 (Lists)\n",
        "In this assignment we will do these tasks:\n",
        "* Add Many Number\n",
        "* Double List\n",
        "* Flowing with data structur\n",
        "* Get First Element\n",
        "* Get Last Element\n",
        "* Get List\n",
        "* Shorten"
      ],
      "metadata": {
        "id": "h0itUo4jmi6H"
      }
    },
    {
      "cell_type": "markdown",
      "source": [
        "## Add Many Number\n",
        "Write a function that takes a list of numbers and returns the sum of those numbers."
      ],
      "metadata": {
        "id": "P-ZaXl84nFKj"
      }
    },
    {
      "cell_type": "code",
      "execution_count": 1,
      "metadata": {
        "colab": {
          "base_uri": "https://localhost:8080/"
        },
        "id": "_PLevkNRmg6X",
        "outputId": "6500cfe1-3790-4ae6-eee4-7da749400864"
      },
      "outputs": [
        {
          "output_type": "stream",
          "name": "stdout",
          "text": [
            "Total Sum is 144\n"
          ]
        }
      ],
      "source": [
        "def sumUs(data):\n",
        "  sum = 0;\n",
        "  for value in data:\n",
        "    sum += value\n",
        "  print(f\"Total Sum is {sum}\")\n",
        "  return;\n",
        "\n",
        "data = [2, 4, 2, 22, 12, 3, 65, 34]\n",
        "sumUs(data)"
      ]
    },
    {
      "cell_type": "markdown",
      "source": [
        "## Double List\n",
        "Write a program that doubles each element in a list of numbers"
      ],
      "metadata": {
        "id": "VBfVjMsmn6eM"
      }
    },
    {
      "cell_type": "code",
      "source": [
        "def doubleUs(data):\n",
        "  for index, value in enumerate(data):\n",
        "    data[index] = value * 2\n",
        "  print(data)\n",
        "\n",
        "doubleUs(data)"
      ],
      "metadata": {
        "colab": {
          "base_uri": "https://localhost:8080/"
        },
        "id": "awsGkLLEnxTQ",
        "outputId": "a042e02e-2176-41be-e87f-cea2e02d45ff"
      },
      "execution_count": 4,
      "outputs": [
        {
          "output_type": "stream",
          "name": "stdout",
          "text": [
            "[4, 8, 4, 44, 24, 6, 130, 68]\n"
          ]
        }
      ]
    },
    {
      "cell_type": "markdown",
      "source": [
        "## Flowing Data with Data Structures\n",
        "Create a function that takes a data and add its three copies in list."
      ],
      "metadata": {
        "id": "zBC2dBmrpj8q"
      }
    },
    {
      "cell_type": "code",
      "source": [
        "def add_three_copies(datalist, data):\n",
        "  for i in range(3):\n",
        "    datalist.append(data)\n",
        "\n",
        "def list_modifier():\n",
        "  datalist = []\n",
        "  value = input(\"Enter a value: \")\n",
        "  print(f\"Old List {datalist}\")\n",
        "  add_three_copies(datalist, value)\n",
        "  print(datalist)\n",
        "\n",
        "list_modifier()"
      ],
      "metadata": {
        "colab": {
          "base_uri": "https://localhost:8080/"
        },
        "id": "_w4e942fqqi8",
        "outputId": "3e72845f-a1c6-40ad-a3f4-bd27bdfa3304"
      },
      "execution_count": 4,
      "outputs": [
        {
          "output_type": "stream",
          "name": "stdout",
          "text": [
            "Enter a value: hello\n",
            "Old List []\n",
            "['hello', 'hello', 'hello']\n"
          ]
        }
      ]
    },
    {
      "cell_type": "markdown",
      "source": [
        "## Get First element in list\n",
        "Fill out the function get_first_element(lst) which takes in a list lst as a parameter and prints the first element in the list. The list is guaranteed to be non-empty."
      ],
      "metadata": {
        "id": "x4WIegqjruUc"
      }
    },
    {
      "cell_type": "code",
      "source": [
        "def get_first_element(lst):\n",
        "  print(f\"First value of list is {lst[0]}\")\n",
        "\n",
        "def main():\n",
        "  data = []\n",
        "  while len(data) <= 0:\n",
        "    valuestoadd = int(input(\"How many elements do you wants to add: \"))\n",
        "    for i in range(valuestoadd):\n",
        "      value = input(\"Enter a value to add in list: \")\n",
        "      data.append(value)\n",
        "  print(f\"Original List: {data}\")\n",
        "  get_first_element(data)\n",
        "\n",
        "main()\n"
      ],
      "metadata": {
        "colab": {
          "base_uri": "https://localhost:8080/"
        },
        "id": "4k77sw9NsIwT",
        "outputId": "8c42d9b4-6b33-41f5-c2ab-f04ba0f61c21"
      },
      "execution_count": 6,
      "outputs": [
        {
          "output_type": "stream",
          "name": "stdout",
          "text": [
            "How many elements do you wants to add: 3\n",
            "Enter a value to add in list: 23\n",
            "Enter a value to add in list: 232\n",
            "Enter a value to add in list: 12\n",
            "Original List: ['23', '232', '12']\n",
            "First value of list is 23\n"
          ]
        }
      ]
    },
    {
      "cell_type": "markdown",
      "source": [
        "## Get Last element of the list\n",
        "Get the last element of the list. If list is empty prompt user to add values."
      ],
      "metadata": {
        "id": "_zTzhJ3zterH"
      }
    },
    {
      "cell_type": "code",
      "source": [
        "def get_last_element(lst):\n",
        "  print(f\"Last value of list is {lst[-1]}\")\n",
        "\n",
        "def main():\n",
        "  data = []\n",
        "  while len(data) <= 0:\n",
        "    valuestoadd = int(input(\"How many elements do you wants to add: \"))\n",
        "    for i in range(valuestoadd):\n",
        "      value = input(\"Enter a value to add in list: \")\n",
        "      data.append(value)\n",
        "  print(f\"Original List: {data}\")\n",
        "  get_last_element(data)\n",
        "\n",
        "main()\n"
      ],
      "metadata": {
        "colab": {
          "base_uri": "https://localhost:8080/"
        },
        "id": "hvOaq_5HtXEc",
        "outputId": "dcaf624a-6737-4a64-bb91-089511a4f2a7"
      },
      "execution_count": 7,
      "outputs": [
        {
          "output_type": "stream",
          "name": "stdout",
          "text": [
            "How many elements do you wants to add: 4\n",
            "Enter a value to add in list: 12\n",
            "Enter a value to add in list: 98\n",
            "Enter a value to add in list: 78\n",
            "Enter a value to add in list: 33\n",
            "Original List: ['12', '98', '78', '33']\n",
            "Last value of list is 33\n"
          ]
        }
      ]
    },
    {
      "cell_type": "markdown",
      "source": [
        "## Get List\n",
        "Write a program which continuously asks the user to enter values which are added one by one into a list. When the user presses enter without typing anything, print the list."
      ],
      "metadata": {
        "id": "jxdFhyfxtyUt"
      }
    },
    {
      "cell_type": "code",
      "source": [
        "def main():\n",
        "  data = []\n",
        "  while True:\n",
        "      value = input(\"Enter a value to add in list: \")\n",
        "      data.append(value)\n",
        "      if value == \"\":\n",
        "        break\n",
        "  print(f\"List: {data}\")\n",
        "\n",
        "main()"
      ],
      "metadata": {
        "colab": {
          "base_uri": "https://localhost:8080/"
        },
        "id": "oudfok2zt1gz",
        "outputId": "14aba9c9-31d7-45a3-f38c-fa06e94b223f"
      },
      "execution_count": 8,
      "outputs": [
        {
          "output_type": "stream",
          "name": "stdout",
          "text": [
            "Enter a value to add in list: hello\n",
            "Enter a value to add in list: world\n",
            "Enter a value to add in list: life\n",
            "Enter a value to add in list: like\n",
            "Enter a value to add in list: 1221\n",
            "Enter a value to add in list: king\n",
            "Enter a value to add in list: \n",
            "List: ['hello', 'world', 'life', 'like', '1221', 'king', '']\n"
          ]
        }
      ]
    },
    {
      "cell_type": "markdown",
      "source": [
        "## Shorten List\n",
        "Fill out the function shorten(lst) which removes elements from the end of lst, which is a list, and prints each item it removes until lst is MAX_LENGTH items long. If lst is already shorter than MAX_LENGTH you should leave it unchanged."
      ],
      "metadata": {
        "id": "_FDys5uEuX4g"
      }
    },
    {
      "cell_type": "code",
      "source": [
        "MAX_LENGTH = 4\n",
        "def shorten(list_data):\n",
        "  while len(list_data) > MAX_LENGTH:\n",
        "    print(list_data.pop())\n",
        "\n",
        "\n",
        "def main():\n",
        "  data = []\n",
        "  while True:\n",
        "      value = input(\"Enter a value to add in list: \")\n",
        "      data.append(value)\n",
        "      if value == \"\":\n",
        "        break\n",
        "  print(f\"List: {data}\")\n",
        "  shorten(data)\n",
        "  print(f\"Shorten list: {data}\")\n",
        "\n",
        "main()"
      ],
      "metadata": {
        "colab": {
          "base_uri": "https://localhost:8080/"
        },
        "id": "C6I2wE0sue8U",
        "outputId": "a6cda757-28b9-43e5-fb00-3a39ae33170a"
      },
      "execution_count": 9,
      "outputs": [
        {
          "output_type": "stream",
          "name": "stdout",
          "text": [
            "Enter a value to add in list: 85\n",
            "Enter a value to add in list: hello\n",
            "Enter a value to add in list: 12\n",
            "Enter a value to add in list: 77\n",
            "Enter a value to add in list: world\n",
            "Enter a value to add in list: 77\n",
            "Enter a value to add in list: file\n",
            "Enter a value to add in list: 09\n",
            "Enter a value to add in list: 23\n",
            "Enter a value to add in list: \n",
            "List: ['85', 'hello', '12', '77', 'world', '77', 'file', '09', '23', '']\n",
            "\n",
            "23\n",
            "09\n",
            "file\n",
            "77\n",
            "world\n",
            "Shorten list: ['85', 'hello', '12', '77']\n"
          ]
        }
      ]
    }
  ]
}