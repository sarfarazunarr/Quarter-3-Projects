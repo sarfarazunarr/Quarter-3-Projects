{
  "nbformat": 4,
  "nbformat_minor": 0,
  "metadata": {
    "colab": {
      "provenance": []
    },
    "kernelspec": {
      "name": "python3",
      "display_name": "Python 3"
    },
    "language_info": {
      "name": "python"
    }
  },
  "cells": [
    {
      "cell_type": "markdown",
      "source": [
        "# Assignment 0 t0 5 (Expressions)\n",
        "In this assignment task we will cover these tasks:\n",
        "* Dice Simulator\n",
        "* e = mc^2\n",
        "* Feets to Inches\n",
        "* Pythogorean Theorem\n",
        "* Remainder Division\n",
        "* Roll Dice\n",
        "* Seconds in Year\n",
        "* Tiny Mad Libs"
      ],
      "metadata": {
        "id": "bPrV6r6sTnqQ"
      }
    },
    {
      "cell_type": "markdown",
      "source": [
        "## Dice Simulator\n",
        "Simulate rolling two dice, three times. Prints the results of each die roll. This program is used to show how variable scope works."
      ],
      "metadata": {
        "id": "EIBn0ODgUYux"
      }
    },
    {
      "cell_type": "code",
      "execution_count": 1,
      "metadata": {
        "colab": {
          "base_uri": "https://localhost:8080/"
        },
        "id": "zUGy4eG5TjJa",
        "outputId": "ce2acb13-83f8-47da-fa0b-fde10198d7e3"
      },
      "outputs": [
        {
          "output_type": "stream",
          "name": "stdout",
          "text": [
            "Die 1 is: 10\n",
            "Total of Two Sides are: 5\n",
            "Total of Two Sides are: 2\n",
            "Total of Two Sides are: 8\n",
            "Die 1 is: 10\n"
          ]
        }
      ],
      "source": [
        "NUM_OF_SIDES = 6\n",
        "import random\n",
        "\n",
        "def roll_dice():\n",
        "    die1 = random.randint(1, NUM_OF_SIDES)\n",
        "    die2 = random.randint(1, NUM_OF_SIDES)\n",
        "    total = die1 + die2\n",
        "    print(f\"Total of Two Sides are: {total}\")\n",
        "\n",
        "def main():\n",
        "  die1 = 10\n",
        "  print(f\"Die 1 is: {die1}\")\n",
        "  roll_dice()\n",
        "  roll_dice()\n",
        "  roll_dice()\n",
        "  print(f\"Die 1 is: {die1}\")\n",
        "\n",
        "main()"
      ]
    },
    {
      "cell_type": "markdown",
      "source": [
        "## e = mc2\n",
        "Write a program that continually reads in mass from the user and then outputs the equivalent energy using Einstein's mass-energy equivalence formula (E stands for energy, m stands for mass, and C is the speed of light:\n",
        "\n",
        "E = mc^2\n",
        "\n",
        "C = 299792458 m/s *(Speed of light)*"
      ],
      "metadata": {
        "id": "CkTHCgolVq0X"
      }
    },
    {
      "cell_type": "code",
      "source": [
        "C = 299792458\n",
        "def calculateTheEnergy():\n",
        "  mass = float(input(\"Enter mass in kg: \"))\n",
        "  energy = mass * (C ** 2)\n",
        "  print(f\"\"\"\n",
        "    Details:\n",
        "    Mass (m): {mass}\n",
        "    Speed of Ligh (c): {C}\n",
        "    Energy (e): {energy}\n",
        "  \"\"\")\n",
        "  print(f\"{energy} joules are required for {mass}\")\n",
        "\n",
        "calculateTheEnergy();"
      ],
      "metadata": {
        "colab": {
          "base_uri": "https://localhost:8080/"
        },
        "id": "2A5hTvsOWIsr",
        "outputId": "769cfd62-9d0e-4601-8c14-be863bab8ee0"
      },
      "execution_count": 4,
      "outputs": [
        {
          "output_type": "stream",
          "name": "stdout",
          "text": [
            "Enter mass in kg: 25\n",
            "\n",
            "    Details: \n",
            "    Mass (m): 25.0\n",
            "    Speed of Ligh (c): 299792458\n",
            "    Energy (e): 2.246887946842044e+18\n",
            "  \n",
            "2.246887946842044e+18 joules are required for 25.0\n"
          ]
        }
      ]
    },
    {
      "cell_type": "markdown",
      "source": [
        "## Feets to Inches\n",
        "Converts feet to inches. Feet is an American unit of measurement. There are 12 inches per foot. Foot is the singular, and feet is the plural."
      ],
      "metadata": {
        "id": "8tcGEgrLXP_n"
      }
    },
    {
      "cell_type": "code",
      "source": [
        "def feetToInch():\n",
        "  feet = float(input(\"Enter feets: \"))\n",
        "  print(f\"{feet} feets has {feet * 12} inches\")\n",
        "\n",
        "feetToInch();"
      ],
      "metadata": {
        "colab": {
          "base_uri": "https://localhost:8080/"
        },
        "id": "4cxkAJZ0X0TY",
        "outputId": "7dd15041-2b18-41a3-a541-5871a6238c87"
      },
      "execution_count": 5,
      "outputs": [
        {
          "output_type": "stream",
          "name": "stdout",
          "text": [
            "Enter feets: 5\n",
            "5.0 feets has 60.0 inches\n"
          ]
        }
      ]
    },
    {
      "cell_type": "markdown",
      "source": [
        "## Pythogorean Theorem\n",
        "Write a program that asks the user for the lengths of the two perpendicular sides of a right triangle and outputs the length of the third side (the hypotenuse) using the Pythagorean theorem!"
      ],
      "metadata": {
        "id": "-BVQlIkSYvaG"
      }
    },
    {
      "cell_type": "code",
      "source": [
        "# Formula h^2 = p^2 + b^2\n",
        "from math import sqrt\n",
        "def pythogorean_theorem():\n",
        "  side1 = float(input(\"Enter side 1 AB: \"))\n",
        "  side2 = float(input(\"Enter side 2 AC \"))\n",
        "  side3 = sqrt((side1 **2) + (side2 **2))\n",
        "  print(f\"The third side is: {side3}\")\n",
        "\n",
        "pythogorean_theorem()"
      ],
      "metadata": {
        "colab": {
          "base_uri": "https://localhost:8080/"
        },
        "id": "8S7Ip72eY3xb",
        "outputId": "7fd9cb9e-a07f-44c4-cd5d-39edf15a6e4a"
      },
      "execution_count": 6,
      "outputs": [
        {
          "output_type": "stream",
          "name": "stdout",
          "text": [
            "Enter side 1 AB: 45\n",
            "Enter side 2 AC 36\n",
            "The third side is: 57.62811813689564\n"
          ]
        }
      ]
    },
    {
      "cell_type": "markdown",
      "source": [
        "## Remainder Division\n",
        "Ask the user for two numbers, one at a time, and then print the result of dividing the first number by the second and also the remainder of the division."
      ],
      "metadata": {
        "id": "8Yh_IyuAadeX"
      }
    },
    {
      "cell_type": "code",
      "source": [
        "def remainder_division():\n",
        "    dividend: int = int(input(\"Please enter an integer to be divided: \"))\n",
        "    divisor: int = int(input(\"Please enter an integer to divide by: \"))\n",
        "\n",
        "    quotient: int = dividend // divisor\n",
        "    remainder: int = dividend % divisor\n",
        "\n",
        "    print(f\"Result: Answer {quotient} with a remainder of {remainder}\")\n",
        "\n",
        "remainder_division()"
      ],
      "metadata": {
        "colab": {
          "base_uri": "https://localhost:8080/"
        },
        "id": "YD6oLG0YcEdv",
        "outputId": "e56537bc-803a-4262-895b-113403746cf9"
      },
      "execution_count": 8,
      "outputs": [
        {
          "output_type": "stream",
          "name": "stdout",
          "text": [
            "Please enter an integer to be divided: 25\n",
            "Please enter an integer to divide by: 3\n",
            "Result: Answer 8 with a remainder of 1\n"
          ]
        }
      ]
    },
    {
      "cell_type": "markdown",
      "source": [
        "## Roll Dice\n"
      ],
      "metadata": {
        "id": "ntT4GSQkhXMI"
      }
    },
    {
      "cell_type": "code",
      "source": [
        "# NUM_OF_SIDES = 6\n",
        "# import random\n",
        "# Already added above\n",
        "\n",
        "def main():\n",
        "\n",
        "  die1 = random.randint(1, NUM_OF_SIDES)\n",
        "  die2 = random.randint(1, NUM_OF_SIDES)\n",
        "  total = die1 + die2\n",
        "  print(f\"Total of Two Sides are: {NUM_OF_SIDES}\")\n",
        "  print(f\"First side {die1}\")\n",
        "  print(f\"Second side {die2}\")\n",
        "  print(f\"Total of two sides {die1 + die2}\")\n",
        "\n",
        "main()"
      ],
      "metadata": {
        "colab": {
          "base_uri": "https://localhost:8080/"
        },
        "id": "L6biCmEFd28r",
        "outputId": "7d0d4907-0c96-4153-aaea-25cb39bef810"
      },
      "execution_count": 25,
      "outputs": [
        {
          "output_type": "stream",
          "name": "stdout",
          "text": [
            "Total of Two Sides are: 6\n",
            "First side 3\n",
            "Second side 3\n",
            "Total of two sides 6\n"
          ]
        }
      ]
    },
    {
      "cell_type": "markdown",
      "source": [
        "## Seconds in Year\n",
        "Use Python to calculate the number of seconds in a year, and tell the user what the result is in a nice print statement that looks like this (of course the value 5 should be the calculated number instead):\n",
        "\n",
        "There are 5 seconds in a year!"
      ],
      "metadata": {
        "id": "o1h3R6WHhhIj"
      }
    },
    {
      "cell_type": "code",
      "source": [
        "DAYS_PER_YEAR = 365\n",
        "HOURS_PER_DAY = 24\n",
        "MIN_PER_HOUR = 60\n",
        "SEC_PER_MIN = 60\n",
        "def seconds_in_year():\n",
        "  number_of_years = int(input(\"Enter number of years: \"));\n",
        "  seconds = (DAYS_PER_YEAR * HOURS_PER_DAY * MIN_PER_HOUR * SEC_PER_MIN) * number_of_years\n",
        "  print(f\"There are {seconds} seconds in a year!\")\n",
        "\n",
        "seconds_in_year()"
      ],
      "metadata": {
        "colab": {
          "base_uri": "https://localhost:8080/"
        },
        "id": "kSg6byqshsY1",
        "outputId": "331edd36-0110-4f44-93df-05cc835b2c0d"
      },
      "execution_count": 28,
      "outputs": [
        {
          "output_type": "stream",
          "name": "stdout",
          "text": [
            "Enter number of years: 32\n",
            "There are 1009152000 seconds in a year!\n"
          ]
        }
      ]
    },
    {
      "cell_type": "markdown",
      "source": [
        "## Tiny Madlibs"
      ],
      "metadata": {
        "id": "cjFdvkGAiifg"
      }
    },
    {
      "cell_type": "code",
      "source": [
        "SENTENCE_START: str = \"Panaversity is fun. I learned to program and used Python to make my \"\n",
        "\n",
        "def main():\n",
        "\n",
        "    adjective: str = input(\"Please type an adjective and press enter. \")\n",
        "    noun: str = input(\"Please type a noun and press enter. \")\n",
        "    verb: str = input(\"Please type a verb and press enter. \")\n",
        "\n",
        "    print(SENTENCE_START + adjective + \" \" + noun + \" \" + verb + \"!\")\n",
        "\n",
        "main()"
      ],
      "metadata": {
        "colab": {
          "base_uri": "https://localhost:8080/"
        },
        "id": "ErwGdm9WiltW",
        "outputId": "bdb49e60-971b-4b21-d1fe-db36793d1fe1"
      },
      "execution_count": 30,
      "outputs": [
        {
          "output_type": "stream",
          "name": "stdout",
          "text": [
            "Please type an adjective and press enter. beautiful\n",
            "Please type a noun and press enter. home\n",
            "Please type a verb and press enter. study\n",
            "Panaversity is fun. I learned to program and used Python to make my beautiful home study!\n"
          ]
        }
      ]
    }
  ]
}