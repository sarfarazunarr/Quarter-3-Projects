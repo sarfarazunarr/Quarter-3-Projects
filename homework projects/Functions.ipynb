{
  "nbformat": 4,
  "nbformat_minor": 0,
  "metadata": {
    "colab": {
      "provenance": []
    },
    "kernelspec": {
      "name": "python3",
      "display_name": "Python 3"
    },
    "language_info": {
      "name": "python"
    }
  },
  "cells": [
    {
      "cell_type": "markdown",
      "source": [
        "## Assignment 00-05 Functions\n",
        "In this assignment we will create these\n",
        "* Averages\n",
        "* Chaotic Counting\n",
        "* Count Even\n",
        "* Double\n",
        "* Get Name\n",
        "* is Odd\n",
        "* print divisor\n",
        "* print multiple\n",
        "* sentence generator\n",
        "* print ones"
      ],
      "metadata": {
        "id": "W9eOggOLeJFX"
      }
    },
    {
      "cell_type": "markdown",
      "source": [
        "## Averages\n",
        "Write a function that takes two numbers and finds the average between the two."
      ],
      "metadata": {
        "id": "Z5-uT6T1epvU"
      }
    },
    {
      "cell_type": "code",
      "execution_count": null,
      "metadata": {
        "colab": {
          "base_uri": "https://localhost:8080/"
        },
        "id": "Gyh3uH-cdt7P",
        "outputId": "31c339a1-2281-4fc1-9005-d8887df7da80"
      },
      "outputs": [
        {
          "output_type": "execute_result",
          "data": {
            "text/plain": [
              "3.0"
            ]
          },
          "metadata": {},
          "execution_count": 2
        }
      ],
      "source": [
        "def get_average(*values):\n",
        "  total_sum = 0\n",
        "  for value in values:\n",
        "    total_sum += value\n",
        "  return total_sum / len(values)\n",
        "\n",
        "get_average(1, 2, 3, 4, 5)"
      ]
    },
    {
      "cell_type": "markdown",
      "source": [
        "## Chaotic Counting\n",
        "\n",
        "Create a chaotic_counting() function that prints numbers from 1 to 10 with a twist. Before printing each number, it calls the done() function, which returns True with a certain likelihood (DONE_LIKELIHOOD). If done() returns True, the function should stop executing and return control to the main() function, which then prints \"I'm done.\""
      ],
      "metadata": {
        "id": "WlN7T1AuhS1B"
      }
    },
    {
      "cell_type": "code",
      "source": [
        "import random\n",
        "\n",
        "DONE_LIKELIHOOD = 0.2\n",
        "\n",
        "def done():\n",
        "    \"\"\"Returns True with a certain likelihood.\"\"\"\n",
        "    return random.random() < DONE_LIKELIHOOD\n",
        "\n",
        "def chaotic_counting():\n",
        "    \"\"\"Prints numbers from 1 to 10 with a chaotic twist.\"\"\"\n",
        "    for i in range(1, 11):\n",
        "        if done():\n",
        "            return\n",
        "        print(i)\n",
        "\n",
        "chaotic_counting()\n",
        "print(\"I'm done.\")"
      ],
      "metadata": {
        "colab": {
          "base_uri": "https://localhost:8080/"
        },
        "id": "yYB3TL72gnyI",
        "outputId": "f258d8b0-69d8-418a-ceb9-c35d3f7dc6a9"
      },
      "execution_count": null,
      "outputs": [
        {
          "output_type": "stream",
          "name": "stdout",
          "text": [
            "1\n",
            "2\n",
            "3\n",
            "4\n",
            "5\n",
            "I'm done.\n"
          ]
        }
      ]
    },
    {
      "cell_type": "markdown",
      "source": [
        "## Count Print Evens\n",
        "Fill out the function count_even(lst) which\n",
        "\n",
        "first populates a list by prompting the user for integers until they press enter (please use the prompt \"Enter an integer or press enter to stop: \"),\n",
        "\n",
        "and then prints the number of even numbers in the list."
      ],
      "metadata": {
        "id": "I32CGNhxh7V-"
      }
    },
    {
      "cell_type": "code",
      "source": [
        "def count_evens():\n",
        "  values = []\n",
        "  total_evens = 0\n",
        "  while True:\n",
        "    value = input(\"Enter an integer or press enter to stop: \")\n",
        "    if value == \"\":\n",
        "      break\n",
        "    values.append(int(value))\n",
        "\n",
        "  for i in values:\n",
        "    if i % 2 == 0:\n",
        "      print(i, end=\" \")\n",
        "      total_evens =+ total_evens + 1\n",
        "  print(f\"\\nTotal evens: {total_evens}\")\n",
        "\n",
        "count_evens()"
      ],
      "metadata": {
        "colab": {
          "base_uri": "https://localhost:8080/"
        },
        "id": "2V1hzzZKiGWv",
        "outputId": "ff11573b-2942-4afa-a97f-5f2283aac3db"
      },
      "execution_count": null,
      "outputs": [
        {
          "output_type": "stream",
          "name": "stdout",
          "text": [
            "Enter an integer or press enter to stop: 2\n",
            "Enter an integer or press enter to stop: 4\n",
            "Enter an integer or press enter to stop: 8\n",
            "Enter an integer or press enter to stop: 78\n",
            "Enter an integer or press enter to stop: 14\n",
            "Enter an integer or press enter to stop: 55\n",
            "Enter an integer or press enter to stop: 13\n",
            "Enter an integer or press enter to stop: 77\n",
            "Enter an integer or press enter to stop: 15\n",
            "Enter an integer or press enter to stop: 16\n",
            "Enter an integer or press enter to stop: 45\n",
            "Enter an integer or press enter to stop: 11\n",
            "Enter an integer or press enter to stop: \n",
            "2 4 8 78 14 16 \n",
            "Total evens: 6\n"
          ]
        }
      ]
    },
    {
      "cell_type": "markdown",
      "source": [
        "## Double\n",
        "Fill out the double(num) function to return the result of multiplying num by 2"
      ],
      "metadata": {
        "id": "sIOnO2n_i_ff"
      }
    },
    {
      "cell_type": "code",
      "source": [
        "def double():\n",
        "  value = int(input(\"Enter Value to Double: \"))\n",
        "  return value * 2\n",
        "\n",
        "double()"
      ],
      "metadata": {
        "colab": {
          "base_uri": "https://localhost:8080/"
        },
        "id": "XPoVr2J8i_I7",
        "outputId": "802b49d7-af99-4598-f607-dab8a74d0b98"
      },
      "execution_count": null,
      "outputs": [
        {
          "name": "stdout",
          "output_type": "stream",
          "text": [
            "Enter Value to Double: 45\n"
          ]
        },
        {
          "output_type": "execute_result",
          "data": {
            "text/plain": [
              "90"
            ]
          },
          "metadata": {},
          "execution_count": 13
        }
      ]
    },
    {
      "cell_type": "markdown",
      "source": [
        "## Get Name\n",
        "Fill out the get_name() function to return your name as a string!"
      ],
      "metadata": {
        "id": "BPfCGxVUjK0w"
      }
    },
    {
      "cell_type": "code",
      "source": [
        "def get_name():\n",
        "  return \"Sarfaraz Sahab\"\n",
        "\n",
        "name = get_name()\n",
        "print(f\"Assalam u alaikum {name}\")"
      ],
      "metadata": {
        "colab": {
          "base_uri": "https://localhost:8080/"
        },
        "id": "vM8orlnpjccS",
        "outputId": "efdca00c-b5e7-4f6e-a490-c57816089713"
      },
      "execution_count": null,
      "outputs": [
        {
          "output_type": "stream",
          "name": "stdout",
          "text": [
            "Assalam u alaikum Sarfaraz Sahab\n"
          ]
        }
      ]
    },
    {
      "cell_type": "markdown",
      "source": [
        "## Is Odd\n",
        "10 even 11 odd 12 even 13 odd 14 even 15 odd 16 even 17 odd 18 even 19 odd"
      ],
      "metadata": {
        "id": "wP3oUWeulIjX"
      }
    },
    {
      "cell_type": "code",
      "source": [
        "def check_even_odd():\n",
        "  print(\"To Stop type 0\")\n",
        "  while True:\n",
        "    value = int(input(\"Enter Value to Check: \"))\n",
        "    if value == 0:\n",
        "      break\n",
        "    if value % 2 == 0:\n",
        "      print(f\"{value} is even\")\n",
        "    else:\n",
        "      print(f\"{value} is odd\")\n",
        "\n",
        "check_even_odd()"
      ],
      "metadata": {
        "colab": {
          "base_uri": "https://localhost:8080/"
        },
        "id": "cMdkJFz50o95",
        "outputId": "85fce0b3-379f-48a8-d459-d536a1f84013"
      },
      "execution_count": 3,
      "outputs": [
        {
          "name": "stdout",
          "output_type": "stream",
          "text": [
            "To Stop type 0\n",
            "Enter Value to Check: 45\n",
            "45 is odd\n",
            "Enter Value to Check: 85\n",
            "85 is odd\n",
            "Enter Value to Check: 4\n",
            "4 is even\n",
            "Enter Value to Check: 66\n",
            "66 is even\n",
            "Enter Value to Check: 0\n"
          ]
        }
      ]
    },
    {
      "cell_type": "markdown",
      "source": [
        "## Print Divisors\n",
        "Write the helper function print_divisors(num), which takes in a number and prints all of its divisors (all the numbers from 1 to num inclusive that num can be cleanly divided by (there is no remainder to the division). Don't forget to call your function in main()!"
      ],
      "metadata": {
        "id": "tytbubxU1NKZ"
      }
    },
    {
      "cell_type": "code",
      "source": [
        "def print_divisor(value):\n",
        "  for i in range(value):\n",
        "    if i == 0:\n",
        "      continue\n",
        "    if value % i == 0:\n",
        "      print(i, end=\" \")\n",
        "\n",
        "print_divisor(12)"
      ],
      "metadata": {
        "colab": {
          "base_uri": "https://localhost:8080/"
        },
        "id": "45Qx7Ccs1XZY",
        "outputId": "cb0c6e6e-ada0-44c4-88e3-3d3e04803475"
      },
      "execution_count": 9,
      "outputs": [
        {
          "output_type": "stream",
          "name": "stdout",
          "text": [
            "1 2 3 4 6 "
          ]
        }
      ]
    },
    {
      "cell_type": "markdown",
      "source": [
        "## Print Multiple\n",
        "Fill out print_multiple(message, repeats), which takes as parameters a string message to print, and an integer repeats number of times to print message. We've written the main() function for you, which prompts the user for a message and a number of repeats."
      ],
      "metadata": {
        "id": "LvhpM9hs2q-8"
      }
    },
    {
      "cell_type": "code",
      "source": [
        "def print_multiple(text, value):\n",
        "  text = f\"{text} \" * value\n",
        "  print(text)\n",
        "\n",
        "print_multiple(\"Sarfaraz\", 5)"
      ],
      "metadata": {
        "colab": {
          "base_uri": "https://localhost:8080/"
        },
        "id": "aYdVEbx92shL",
        "outputId": "cb68ec22-f397-4fc8-b224-fe05fe7778d8"
      },
      "execution_count": 14,
      "outputs": [
        {
          "output_type": "stream",
          "name": "stdout",
          "text": [
            "Sarfaraz Sarfaraz Sarfaraz Sarfaraz Sarfaraz \n"
          ]
        }
      ]
    },
    {
      "cell_type": "markdown",
      "source": [
        "## Sentence Generator\n",
        "Implement the helper function make_sentence(word, part_of_speech) which will take a string word and an integer part_of_speech as parameters and, depending on the part of speech."
      ],
      "metadata": {
        "id": "CPQKo1nX3n52"
      }
    },
    {
      "cell_type": "code",
      "source": [
        "def sentence_generator():\n",
        "  print(\"\"\"Select Part of Speech:\n",
        "    1. Noun\n",
        "    2. Pronoun\n",
        "    3. Verb\n",
        "    4. Adjective\n",
        "    5. Adverb\n",
        "    6. Preposition\n",
        "    7. Conjunction\n",
        "    8. Interjection\n",
        "    9. Exit\n",
        "  \"\"\")\n",
        "  while True:\n",
        "    part_of_speech = int(input(\"Enter Part of Speech: \"))\n",
        "    if part_of_speech == 1:\n",
        "      word = input(\"Enter Noun: \")\n",
        "      print(f\"The {word} on the table is mine.\")\n",
        "    elif part_of_speech == 2:\n",
        "      word = input(\"Enter Pronoun: \")\n",
        "      print(f\"{word} is the CEO of the company.\")\n",
        "    elif part_of_speech == 3:\n",
        "      word = input(\"Enter Verb: \")\n",
        "      print(f\"She {word} novels for a living.\")\n",
        "    elif part_of_speech == 4:\n",
        "      word = input(\"Enter Adjective: \")\n",
        "      print(f\"The {word} house on the hill is for sale.\")\n",
        "    elif part_of_speech == 5:\n",
        "      word = input(\"Enter Adverb: \")\n",
        "      print(f\"He {word} finished his dinner.\")\n",
        "    elif part_of_speech == 6:\n",
        "      word = input(\"Enter Preposition: \")\n",
        "      print(f\"The book is {word} the table.\")\n",
        "    elif part_of_speech == 7:\n",
        "      word = input(\"Enter Conjunction: \")\n",
        "      print(f\"I like reading {word} writing.\")\n",
        "    elif part_of_speech == 8:\n",
        "      word = input(\"Enter Interjection: \")\n",
        "      print(f\"{word}, that's amazing!\")\n",
        "    elif part_of_speech == 9:\n",
        "      break\n",
        "    else:\n",
        "      print(\"Invalid Choice\")\n",
        "\n",
        "\n",
        "sentence_generator()"
      ],
      "metadata": {
        "colab": {
          "base_uri": "https://localhost:8080/"
        },
        "id": "J4nJdHL33vLt",
        "outputId": "c7d49063-2be9-4da4-b817-9cec420a3d66"
      },
      "execution_count": 17,
      "outputs": [
        {
          "name": "stdout",
          "output_type": "stream",
          "text": [
            "Select Part of Speech:\n",
            "    1. Noun\n",
            "    2. Pronoun\n",
            "    3. Verb\n",
            "    4. Adjective\n",
            "    5. Adverb\n",
            "    6. Preposition\n",
            "    7. Conjunction\n",
            "    8. Interjection\n",
            "    9. Exit\n",
            "  \n",
            "Enter Part of Speech: 1\n",
            "Enter Noun: Book\n",
            "The Book on the table is mine.\n",
            "Enter Part of Speech: 3\n",
            "Enter Verb: reads\n",
            "She reads novels for a living.\n",
            "Enter Part of Speech: 8\n",
            "Enter Interjection: Wow\n",
            "Wow, that's amazing!\n",
            "Enter Part of Speech: 9\n"
          ]
        }
      ]
    },
    {
      "cell_type": "markdown",
      "source": [
        "## Print Ones Digit\n",
        "Write a function called print_ones_digit , which takes as a parameter an integer num and prints its ones digit. The modulo (remainder) operator, %, should be helpful to you here. Call your function from main()!\n",
        "\n",
        "Here's a sample run (user input is in blue):\n",
        "\n",
        "Enter a number: 42 The ones digit is 2"
      ],
      "metadata": {
        "id": "Iz4PlMWx64aa"
      }
    },
    {
      "cell_type": "code",
      "source": [
        "def print_ones_digit(value):\n",
        "  ones_digit = value % 10\n",
        "  print(f\"Ones digit is {ones_digit}\")\n",
        "\n",
        "print_ones_digit(42)\n",
        "print_ones_digit(123)\n",
        "print_ones_digit(999)"
      ],
      "metadata": {
        "colab": {
          "base_uri": "https://localhost:8080/"
        },
        "id": "Ug_Etbs2674-",
        "outputId": "e981020b-ea6a-4f87-d52d-7e297722d247"
      },
      "execution_count": 18,
      "outputs": [
        {
          "output_type": "stream",
          "name": "stdout",
          "text": [
            "Ones digit is 2\n",
            "Ones digit is 3\n",
            "Ones digit is 9\n"
          ]
        }
      ]
    }
  ]
}