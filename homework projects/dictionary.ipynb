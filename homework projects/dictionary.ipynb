{
  "nbformat": 4,
  "nbformat_minor": 0,
  "metadata": {
    "colab": {
      "provenance": []
    },
    "kernelspec": {
      "name": "python3",
      "display_name": "Python 3"
    },
    "language_info": {
      "name": "python"
    }
  },
  "cells": [
    {
      "cell_type": "markdown",
      "source": [
        "## Assignment 00-05 Dictionary\n",
        "In this assignment we have to do following tasks:\n",
        "* Count Numbers\n",
        "* Phone Book\n",
        "* Popup Shops\n",
        "* Powerful Passwords\n",
        "\n",
        "\n"
      ],
      "metadata": {
        "id": "0p2MpUUINajv"
      }
    },
    {
      "cell_type": "markdown",
      "source": [
        "## Count Numbers\n",
        "This program counts the number of times each number appears in a list. It uses a dictionary to keep track of the information.\n",
        "\n",
        "An example run of the program looks like this (user input is in blue):\n",
        "\n",
        "Enter a number: 3 Enter a number: 4 Enter a number: 3 Enter a number: 6 Enter a number: 4 Enter a number: 3 Enter a number: 12 Enter a number: 3 appears 3 times. 4 appears 2 times. 6 appears 1 times. 12 appears 1 times."
      ],
      "metadata": {
        "id": "Xxi4j73kNsOe"
      }
    },
    {
      "cell_type": "code",
      "execution_count": 4,
      "metadata": {
        "colab": {
          "base_uri": "https://localhost:8080/"
        },
        "id": "3j3zkwZ4NIWx",
        "outputId": "e3dfc349-ee9e-4011-bf39-ad0d1214b25e"
      },
      "outputs": [
        {
          "output_type": "stream",
          "name": "stdout",
          "text": [
            "Enter the number of values: 8\n",
            "Enter a number: 4\n",
            "Enter a number: 3\n",
            "Enter a number: 6\n",
            "Enter a number: 4\n",
            "Enter a number: 3\n",
            "Enter a number: 12\n",
            "Enter a number: 3\n",
            "Enter a number: 4\n",
            "4 appears in counting 3 times.\n",
            "3 appears in counting 3 times.\n",
            "6 appears in counting 1 times.\n",
            "12 appears in counting 1 times.\n"
          ]
        }
      ],
      "source": [
        "def count_nums():\n",
        "  datalist = []\n",
        "  counting = {}\n",
        "  num_of_values = int(input(\"Enter the number of values: \"))\n",
        "  for i in range(num_of_values):\n",
        "    datalist.append(int(input(\"Enter a number: \")))\n",
        "  for value in datalist:\n",
        "    if value in counting:\n",
        "      counting[value] += 1\n",
        "    else:\n",
        "      counting[value] = 1\n",
        "\n",
        "  for key in counting:\n",
        "    print(f\"{key} appears in counting {counting[key]} times.\")\n",
        "\n",
        "count_nums()"
      ]
    },
    {
      "cell_type": "markdown",
      "source": [
        "## Phonebook\n",
        "In this program we show an example of using dictionaries to keep track of information in a phonebook."
      ],
      "metadata": {
        "id": "1dpngL0sVye8"
      }
    },
    {
      "cell_type": "code",
      "source": [
        "class Phonebook():\n",
        "  def __init__(self):\n",
        "    self.phonebook = {}\n",
        "\n",
        "  def saveNumber(self):\n",
        "    name = input(\"Enter a name: \")\n",
        "    number = input(\"Enter a number: \")\n",
        "    self.phonebook[name] = number\n",
        "\n",
        "  def getNumber(self):\n",
        "    name = input(\"Enter a name: \")\n",
        "    if name in self.phonebook:\n",
        "      print(f\"{name}'s number is {self.phonebook[name]}.\")\n",
        "\n",
        "  def updateNumber(self):\n",
        "    name = input(\"Enter a name: \")\n",
        "    if name in self.phonebook:\n",
        "      number = input(\"Enter a new number: \")\n",
        "      self.phonebook[name] = number\n",
        "      print(\"Number updated.\")\n",
        "    else:\n",
        "      print(\"Name not found.\")\n",
        "\n",
        "  def deleteNumber(self):\n",
        "    name = input(\"Enter a name: \")\n",
        "    if name in self.phonebook:\n",
        "      del self.phonebook[name]\n",
        "\n",
        "  def printPhonebook(self):\n",
        "    for name in self.phonebook:\n",
        "      print(f\"{name}'s number is {self.phonebook[name]}.\")\n",
        "\n",
        "\n",
        "pb = Phonebook()\n",
        "pb.saveNumber()\n",
        "pb.saveNumber()\n",
        "pb.getNumber()\n",
        "pb.updateNumber()\n",
        "pb.deleteNumber()\n",
        "pb.printPhonebook()"
      ],
      "metadata": {
        "colab": {
          "base_uri": "https://localhost:8080/"
        },
        "id": "4iaKNp2hV3qT",
        "outputId": "d0d45780-0672-4ef1-b987-2142d48e1f52"
      },
      "execution_count": 1,
      "outputs": [
        {
          "output_type": "stream",
          "name": "stdout",
          "text": [
            "Enter a name: Sarfaraz\n",
            "Enter a number: 0301234578\n",
            "Enter a name: Javed\n",
            "Enter a number: 0301324587\n",
            "Enter a name: Sarfaraz\n",
            "Sarfaraz's number is 0301234578.\n",
            "Enter a name: Javed\n",
            "Enter a new number: 0301234458\n",
            "Number updated.\n",
            "Enter a name: Sarfaraz\n",
            "Javed's number is 0301234458.\n"
          ]
        }
      ]
    },
    {
      "cell_type": "markdown",
      "source": [
        "## Popup Shop\n",
        "There's a small fruit shop nearby your house that you like to buy from. Since you buy several fruit at a time, you want to keep track of how much the fruit will cost before you go. Luckily you wrote down what fruits were available and how much one of each fruit costs.\n",
        "\n",
        "Write a program that loops through a dictionary of fruits, prompting the user to see how many of each fruit they want to buy, and then prints out the total combined cost of all of the fruits."
      ],
      "metadata": {
        "id": "htdd8nIRW1xv"
      }
    },
    {
      "cell_type": "code",
      "source": [
        "fruits = {\"apple\": 1.3, \"pear\": 1, \"banana\": 2.2, \"watermelon\": 3, \"orange\": 1.5}\n",
        "total = 0\n",
        "for fruit in fruits:\n",
        "  quantity = int(input(f\"How many {fruit}s do you want to buy? \"))\n",
        "  total += fruits[fruit] * quantity\n",
        "print(f\"The total cost is ${total}.\")"
      ],
      "metadata": {
        "colab": {
          "base_uri": "https://localhost:8080/"
        },
        "id": "GY69w6f6XMTe",
        "outputId": "a115ff75-0565-4161-c4f2-cd87d570762e"
      },
      "execution_count": 3,
      "outputs": [
        {
          "output_type": "stream",
          "name": "stdout",
          "text": [
            "How many apples do you want to buy? 5\n",
            "How many pears do you want to buy? 3\n",
            "How many bananas do you want to buy? 1\n",
            "How many watermelons do you want to buy? 5\n",
            "How many oranges do you want to buy? 15\n",
            "The total cost is $49.2.\n"
          ]
        }
      ]
    },
    {
      "cell_type": "markdown",
      "source": [
        "## Powerful Passwords\n",
        "You want to be safe online and use different passwords for different websites. However, you are forgetful at times and want to make a program that can match which password belongs to which website without storing the actual password!\n",
        "\n",
        "This can be done via something called hashing. Hashing is when we take something and convert it into a different, unique identifier. This is done using a hash function. Luckily, there are several resources that can help us with this."
      ],
      "metadata": {
        "id": "7Zb_m7ItXs12"
      }
    },
    {
      "cell_type": "code",
      "source": [
        "!pip install bcrypt"
      ],
      "metadata": {
        "colab": {
          "base_uri": "https://localhost:8080/"
        },
        "id": "0kpwynoSYRvR",
        "outputId": "e5b0a9dc-6fe9-4a36-e955-3ce690c7cc51"
      },
      "execution_count": 6,
      "outputs": [
        {
          "output_type": "stream",
          "name": "stdout",
          "text": [
            "Collecting bcrypt\n",
            "  Downloading bcrypt-4.3.0-cp39-abi3-manylinux_2_34_x86_64.whl.metadata (10 kB)\n",
            "Downloading bcrypt-4.3.0-cp39-abi3-manylinux_2_34_x86_64.whl (284 kB)\n",
            "\u001b[?25l   \u001b[90m━━━━━━━━━━━━━━━━━━━━━━━━━━━━━━━━━━━━━━━━\u001b[0m \u001b[32m0.0/284.2 kB\u001b[0m \u001b[31m?\u001b[0m eta \u001b[36m-:--:--\u001b[0m\r\u001b[2K   \u001b[90m━━━━━━━━━━━━━━━━━━━━━━━━━━━━━━━━━━━━━━━━\u001b[0m \u001b[32m284.2/284.2 kB\u001b[0m \u001b[31m15.1 MB/s\u001b[0m eta \u001b[36m0:00:00\u001b[0m\n",
            "\u001b[?25hInstalling collected packages: bcrypt\n",
            "Successfully installed bcrypt-4.3.0\n"
          ]
        }
      ]
    },
    {
      "cell_type": "code",
      "source": [
        "import bcrypt\n",
        "\n",
        "def hashPass(password):\n",
        "  salt = bcrypt.gensalt()\n",
        "  hashed_pass = bcrypt.hashpw(password.encode(\"utf-8\"), salt)\n",
        "  return hashed_pass\n",
        "\n",
        "def checkPass(password, hashed_pass):\n",
        "  return bcrypt.checkpw(password.encode(\"utf-8\"), hashed_pass)\n",
        "\n",
        "\n",
        "def login(users, email, password):\n",
        "  if email in users:\n",
        "    if checkPass(password, users[email]):\n",
        "      print(\"Login successful.\")\n",
        "    else:\n",
        "      print(\"Login failed.\")\n",
        "  else:\n",
        "    print(\"Login failed.\")\n",
        "\n",
        "def signup(users, email, password):\n",
        "  if email in users:\n",
        "    print(\"User already exist!\")\n",
        "    return;\n",
        "  users[email] = hashPass(password)\n",
        "  print(\"User created.\")\n",
        "\n",
        "def main():\n",
        "  print(\"Welcome to our website!\")\n",
        "  users = {}\n",
        "  while True:\n",
        "    print(\"\"\"\n",
        "      What you want to do?\n",
        "      1. Login\n",
        "      2. Signup\n",
        "      3. Exit\n",
        "    \"\"\")\n",
        "    choice = int(input(\"Enter your choice: \"))\n",
        "    if choice == 1:\n",
        "      email = input(\"Enter your email: \")\n",
        "      password = input(\"Enter your password: \")\n",
        "      login(users, email, password)\n",
        "    elif choice == 2:\n",
        "      email = input(\"Enter your email: \")\n",
        "      password = input(\"Enter your password: \")\n",
        "      signup(users, email, password)\n",
        "    elif choice == 3:\n",
        "      break;\n",
        "      return\n",
        "    else:\n",
        "      print(\"Invalid choice!\")\n",
        "\n",
        "main()"
      ],
      "metadata": {
        "colab": {
          "base_uri": "https://localhost:8080/"
        },
        "id": "0gDrcAXYaDWh",
        "outputId": "7d66ceb6-8f2f-45bb-9fd4-617850cd933e"
      },
      "execution_count": 15,
      "outputs": [
        {
          "name": "stdout",
          "output_type": "stream",
          "text": [
            "Welcome to our website!\n",
            "\n",
            "      What you want to do?\n",
            "      1. Login\n",
            "      2. Signup\n",
            "      3. Exit\n",
            "    \n",
            "Enter your choice: 2\n",
            "Enter your email: sarfarazunarr@gmail.com\n",
            "Enter your password: sarfaraz\n",
            "User created.\n",
            "\n",
            "      What you want to do?\n",
            "      1. Login\n",
            "      2. Signup\n",
            "      3. Exit\n",
            "    \n",
            "Enter your choice: 2\n",
            "Enter your email: sarfarazunarr@gmail.com\n",
            "Enter your password: 1122\n",
            "User already exist!\n",
            "\n",
            "      What you want to do?\n",
            "      1. Login\n",
            "      2. Signup\n",
            "      3. Exit\n",
            "    \n",
            "Enter your choice: 1\n",
            "Enter your email: sarfarazunarr@gmail\n",
            "Enter your password: sarfaraz\n",
            "Login failed.\n",
            "\n",
            "      What you want to do?\n",
            "      1. Login\n",
            "      2. Signup\n",
            "      3. Exit\n",
            "    \n",
            "Enter your choice: 1\n",
            "Enter your email: sarfarazunarr@gmail.com\n",
            "Enter your password: sarfaraz\n",
            "Login successful.\n",
            "\n",
            "      What you want to do?\n",
            "      1. Login\n",
            "      2. Signup\n",
            "      3. Exit\n",
            "    \n",
            "Enter your choice: 3\n"
          ]
        }
      ]
    }
  ]
}