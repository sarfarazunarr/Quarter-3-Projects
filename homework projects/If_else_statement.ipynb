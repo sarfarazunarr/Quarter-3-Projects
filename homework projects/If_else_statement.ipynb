{
  "nbformat": 4,
  "nbformat_minor": 0,
  "metadata": {
    "colab": {
      "provenance": []
    },
    "kernelspec": {
      "name": "python3",
      "display_name": "Python 3"
    },
    "language_info": {
      "name": "python"
    }
  },
  "cells": [
    {
      "cell_type": "markdown",
      "source": [
        "# Q3 Assignment 00-05 (If else Statement)\n",
        "In thi s assignment we will do following tasks:\n",
        "* Print Evens\n",
        "* International Voting Age\n",
        "* Leap Year\n",
        "* Tall Enough to Ride\n",
        "* Random Numbers"
      ],
      "metadata": {
        "id": "0RaDPPG-wNCq"
      }
    },
    {
      "cell_type": "markdown",
      "source": [
        "## Print Evens\n",
        "Print Even numbers from list"
      ],
      "metadata": {
        "id": "i1HJXzAHw0U8"
      }
    },
    {
      "cell_type": "code",
      "execution_count": null,
      "metadata": {
        "colab": {
          "base_uri": "https://localhost:8080/"
        },
        "id": "03mjalrZwHov",
        "outputId": "117150c8-8657-4bcf-d055-8976bfab7694"
      },
      "outputs": [
        {
          "output_type": "stream",
          "name": "stdout",
          "text": [
            "32\n",
            "12\n",
            "22\n",
            "4\n",
            "34\n",
            "0\n"
          ]
        }
      ],
      "source": [
        "datalist = [1, 32, 12, 22, 4, 55, 23, 67, 89, 34, 53, 0]\n",
        "\n",
        "def getEvens(data):\n",
        "  for value in data:\n",
        "    if value % 2 == 0:\n",
        "      print(value)\n",
        "\n",
        "getEvens(datalist)"
      ]
    },
    {
      "cell_type": "markdown",
      "source": [
        "## International Voting Age\n",
        "Write a program which asks a user for their age and lets them know if they can or can't vote in the following three fictional countries.\n",
        "\n",
        "Around the world, different countries have different voting ages. In the fictional countries of Peturksbouipo, Stanlau, and Mayengua, the voting ages are very different:\n",
        "\n",
        "the voting age in Peturksbouipo is 16 (in real life, this is the voting age in, for example, Scotland, Ethiopia, and Austria)\n",
        "\n",
        "the voting age in Stanlau is 25 (in real life this is the voting age in the United Arab Emirates)\n",
        "\n",
        "the voting age in Mayengua is 48 (in real life, as far as we can tell, this isn't the voting age anywhere)\n",
        "\n",
        "Your code should prompt the for their age and print whether or not they can vote in Peturksbouipo, Stanlau, or Mayengua."
      ],
      "metadata": {
        "id": "puExOd2xjdrI"
      }
    },
    {
      "cell_type": "code",
      "source": [
        "PETU = 16\n",
        "STAN = 25\n",
        "MAYE = 48\n",
        "\n",
        "age = int(input(\"Enter your age: \"))\n",
        "if age >= PETU:\n",
        "  print(f\"You can vote in Peturksbouipo!\")\n",
        "else:\n",
        "  print(f\"You can not vote in Peturksbouipo\")\n",
        "\n",
        "if age >= STAN:\n",
        "  print(f\"You can vote in Stanlau!\")\n",
        "else:\n",
        "  print(f\"You can not vote in Stanlau\")\n",
        "\n",
        "if age >= MAYE:\n",
        "  print(\"You can vote in Mayengua!\")\n",
        "else:\n",
        "  print(\"You can not vote in Mayengua!\")"
      ],
      "metadata": {
        "colab": {
          "base_uri": "https://localhost:8080/"
        },
        "id": "4AeQ_lUPj9Bn",
        "outputId": "bbd483b6-c0f7-41b8-d6ea-e05b247d72be"
      },
      "execution_count": 2,
      "outputs": [
        {
          "output_type": "stream",
          "name": "stdout",
          "text": [
            "Enter your age: 35\n",
            "You can vote in Peturksbouipo!\n",
            "You can vote in Stanlau!\n",
            "You can not vote in Mayengua!\n"
          ]
        }
      ]
    },
    {
      "cell_type": "markdown",
      "source": [
        "## Leap Year\n",
        "Write a program that reads a year from the user and tells whether a given year is a leap year or not.\n",
        "\n",
        "A leap year (also known as an intercalary year or bissextile year) is a calendar year that contains an additional day (or, in the case of a lunisolar calendar, a month) added to keep the calendar year synchronized with the astronomical year or seasonal year. In the Gregorian calendar, each leap year has 366 days instead of 365, by extending February to 29 days rather than the common 28.\n",
        "\n",
        "In the Gregorian calendar, three criteria must be checked to identify leap years:\n",
        "\n",
        "The given year must be evenly divisible by 4;\n",
        "If the year can also be evenly divided by 100, it is NOT a leap year; unless:\n",
        "The year is also evenly divisible by 400. Then it is a leap year.\n",
        "Your code should use the above criteria to check for a leap year and then print either \"That's a leap year!\" or \"That's not a leap year.\""
      ],
      "metadata": {
        "id": "ugskPINSk-MD"
      }
    },
    {
      "cell_type": "code",
      "source": [
        "import datetime\n",
        "def getLeapYear():\n",
        "  year = input(\"Enter year (For current year leave blank): \")\n",
        "  if year == \"\":\n",
        "    date = datetime.datetime.now()\n",
        "    year = date.year\n",
        "  year = int(year)\n",
        "\n",
        "  if year % 4 == 0:\n",
        "    if year % 100 == 0:\n",
        "      if year % 400 == 0:\n",
        "        print(f\"{year} is leap year!\")\n",
        "      else:\n",
        "        print(f\"{year} is not leap year\")\n",
        "    else:\n",
        "      print(f\"{year} is leap year\")\n",
        "  else:\n",
        "    print(f\"{year} is not leap year\")\n",
        "\n",
        "getLeapYear()"
      ],
      "metadata": {
        "colab": {
          "base_uri": "https://localhost:8080/"
        },
        "id": "b3OUFh6vl42l",
        "outputId": "88e4b521-052a-4f05-d613-9b6a593f1bf7"
      },
      "execution_count": 14,
      "outputs": [
        {
          "output_type": "stream",
          "name": "stdout",
          "text": [
            "Enter year (For current year leave blank): 2024\n",
            "2024 is leap year\n"
          ]
        }
      ]
    },
    {
      "cell_type": "markdown",
      "source": [
        "## Tall Enough To Ride\n",
        "Write a program which asks the user how tall they are and prints whether or not they're taller than a pre-specified minimum height.\n",
        "\n",
        "\n",
        "MIN HEIGHT = 50"
      ],
      "metadata": {
        "id": "j9sIMeVJoPz8"
      }
    },
    {
      "cell_type": "code",
      "source": [
        "MIN_HEIGHT = 50\n",
        "\n",
        "height = int(input(\"Enter your height: \"))\n",
        "if height >= MIN_HEIGHT:\n",
        "  print(\"You are tall enough to ride!\")\n",
        "else:\n",
        "  print(\"You are not tall enough to ride, Agly saal aana!\")"
      ],
      "metadata": {
        "colab": {
          "base_uri": "https://localhost:8080/"
        },
        "id": "HvAx_iDP2P2J",
        "outputId": "782052dd-5954-408c-c205-205232cc2129"
      },
      "execution_count": 15,
      "outputs": [
        {
          "output_type": "stream",
          "name": "stdout",
          "text": [
            "Enter your height: 48\n",
            "You are not tall enough to ride, Agly saal aana!\n"
          ]
        }
      ]
    },
    {
      "cell_type": "markdown",
      "source": [
        "## Random Number\n",
        "Print 10 random numbers in the range 1 to 100."
      ],
      "metadata": {
        "id": "pfxvNR5bKEVy"
      }
    },
    {
      "cell_type": "code",
      "source": [
        "import random\n",
        "MIN_VALUE = 1\n",
        "MAX_VALUE = 100\n",
        "TOTAL_VALUES = 10\n",
        "\n",
        "for i in range(TOTAL_VALUES):\n",
        "  print(random.randint(MIN_VALUE, MAX_VALUE), end=\" \")\n"
      ],
      "metadata": {
        "colab": {
          "base_uri": "https://localhost:8080/"
        },
        "id": "uyTtk0wNKuJa",
        "outputId": "b336ba8b-65f6-4b79-e89c-d419c5df53a4"
      },
      "execution_count": 18,
      "outputs": [
        {
          "output_type": "stream",
          "name": "stdout",
          "text": [
            "41 42 63 35 8 27 59 29 13 63 "
          ]
        }
      ]
    }
  ]
}