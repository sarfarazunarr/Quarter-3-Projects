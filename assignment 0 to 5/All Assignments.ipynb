{
  "nbformat": 4,
  "nbformat_minor": 0,
  "metadata": {
    "colab": {
      "provenance": []
    },
    "kernelspec": {
      "name": "python3",
      "display_name": "Python 3"
    },
    "language_info": {
      "name": "python"
    }
  },
  "cells": [
    {
      "cell_type": "markdown",
      "source": [
        "# Python Assignment 00\n",
        "In this assignment we have to cover these tasks:\n",
        "* Add two numbers\n",
        "* Agreement Bot\n",
        "* Fahrenheit to Celcius\n",
        "* How old are they\n",
        "* Triangle Perimeter\n",
        "* Square number\n"
      ],
      "metadata": {
        "id": "Q4pOkkgBEvJh"
      }
    },
    {
      "cell_type": "markdown",
      "source": [
        "## Add two numbers\n",
        "Prompt the user for value convert them to int or float and sum them."
      ],
      "metadata": {
        "id": "f6-t12DGFVi_"
      }
    },
    {
      "cell_type": "code",
      "execution_count": null,
      "metadata": {
        "colab": {
          "base_uri": "https://localhost:8080/"
        },
        "id": "DmGjZ6XoEml2",
        "outputId": "027d8b34-5aae-4bd5-88c5-6c58af8f8e24"
      },
      "outputs": [
        {
          "output_type": "stream",
          "name": "stdout",
          "text": [
            "Enter first value: 42.5\n",
            "Enter second value: 458.2\n",
            "500.7\n"
          ]
        }
      ],
      "source": [
        "def addValue():\n",
        "  val1 = float(input(\"Enter first value: \"))\n",
        "  val2 = float(input(\"Enter second value: \"))\n",
        "  print(val1 + val2)\n",
        "  return;\n",
        "addValue();\n"
      ]
    },
    {
      "cell_type": "markdown",
      "source": [
        "## Agreement Bot\n",
        "Write a program which asks the user what their favorite animal is, and then always responds with \"My favorite animal is also ___!\" (the blank should be filled in with the user-inputted animal, of course)."
      ],
      "metadata": {
        "id": "XjtKUOnAFzng"
      }
    },
    {
      "cell_type": "code",
      "source": [
        "def likeITWhatI():\n",
        "  animal = input(\"What is your favorite animal? \")\n",
        "  print(\"My favorite animal is also \" + animal + \"!\")\n",
        "  return;\n",
        "likeITWhatI();"
      ],
      "metadata": {
        "colab": {
          "base_uri": "https://localhost:8080/"
        },
        "id": "_6t5Gj42GCgj",
        "outputId": "6175afd2-a9cf-4675-baa2-0691ba99b83e"
      },
      "execution_count": null,
      "outputs": [
        {
          "output_type": "stream",
          "name": "stdout",
          "text": [
            "What is your favorite animal? Goat\n",
            "My favorite animal is also Goat!\n"
          ]
        }
      ]
    },
    {
      "cell_type": "markdown",
      "source": [
        "## Fahrenheit to Celcius\n",
        "Write a program which prompts the user for a temperature in Fahrenheit (this can be a number with decimal places!) and outputs the temperature converted to Celsius."
      ],
      "metadata": {
        "id": "eiyf3sSxGKM5"
      }
    },
    {
      "cell_type": "code",
      "source": [
        "def fahrenheitToCelcius():\n",
        "  fahrenheit = float(input(\"Enter temperature in fahrenheit: \"))\n",
        "  celcius = (fahrenheit - 32) * 5/9\n",
        "  print(f\"{celcius} Celcius\")\n",
        "  return;\n",
        "fahrenheitToCelcius();"
      ],
      "metadata": {
        "colab": {
          "base_uri": "https://localhost:8080/"
        },
        "id": "7ZLwUSb4GW_o",
        "outputId": "c39f8eae-ffd2-4ace-f3f4-173b86670203"
      },
      "execution_count": null,
      "outputs": [
        {
          "output_type": "stream",
          "name": "stdout",
          "text": [
            "Enter temperature in fahrenheit: 100\n",
            "37.77777777777778 Celcius\n"
          ]
        }
      ]
    },
    {
      "cell_type": "markdown",
      "source": [
        "## How Old They Are\n",
        "Write a program to solve this age-related riddle!\n",
        "\n",
        "Anton, Beth, Chen, Drew, and Ethan are all friends. Their ages are as follows:\n",
        "\n",
        "Anton is 21 years old.\n",
        "\n",
        "Beth is 6 years older than Anton.\n",
        "\n",
        "Chen is 20 years older than Beth.\n",
        "\n",
        "Drew is as old as Chen's age plus Anton's age.\n",
        "\n",
        "Ethan is the same age as Chen.\n",
        "\n",
        "Your code should store each person's age to a variable and print their names and ages at the end. The autograder is sensitive to capitalization and punctuation, be careful! Your solution should look like this (the below numbers are made up -- your solution should have the correct values!):\n",
        "```\n",
        "Anton is 3\n",
        "Beth is 4\n",
        "Chen is 5\n",
        "Drew is 6\n",
        "Ethan is 7\n",
        "```"
      ],
      "metadata": {
        "id": "-Vy-78c1Gw7T"
      }
    },
    {
      "cell_type": "code",
      "source": [
        "def showAges():\n",
        "  anton = 21\n",
        "  beth = anton + 6\n",
        "  chen = beth + 20\n",
        "  drew = chen + anton\n",
        "  ethan = chen\n",
        "\n",
        "  print(f\"Anton is {anton}\")\n",
        "  print(f\"Beth is {beth}\")\n",
        "  print(f\"Chen is {chen}\")\n",
        "  print(f\"Drew is {drew}\")\n",
        "  print(f\"Ethan is {ethan}\")\n",
        "  return;\n",
        "showAges();"
      ],
      "metadata": {
        "colab": {
          "base_uri": "https://localhost:8080/"
        },
        "id": "sw4hjXI3NNnA",
        "outputId": "b02b27f9-9c3e-41e9-df8b-3c0f77160088"
      },
      "execution_count": 7,
      "outputs": [
        {
          "output_type": "stream",
          "name": "stdout",
          "text": [
            "Anton is 21\n",
            "Beth is 27\n",
            "Chen is 47\n",
            "Drew is 68\n",
            "Ethan is 47\n"
          ]
        }
      ]
    },
    {
      "cell_type": "markdown",
      "source": [
        "## Triangle Perimeter\n",
        "Prompt the user to enter the lengths of each side of a triangle and then calculate and print the perimeter of the triangle (the sum of all of the side lengths)."
      ],
      "metadata": {
        "id": "9_xwk0OeOAeK"
      }
    },
    {
      "cell_type": "code",
      "source": [
        "def CalculateTP():\n",
        "  side1 = float(input(\"Enter 1st side measurement: \"))\n",
        "  side2 = float(input(\"Enter 2nd side measurement: \"))\n",
        "  side3 = float(input(\"Enter 3rd side measurement: \"))\n",
        "  print(f\"Perimeter of triangle is {side1 + side2 + side3}\")\n",
        "  return;\n",
        "CalculateTP();"
      ],
      "metadata": {
        "colab": {
          "base_uri": "https://localhost:8080/"
        },
        "id": "hS-W95KDOarV",
        "outputId": "2fbc8e2b-9059-4aab-bf2d-1aa3543c15ad"
      },
      "execution_count": 8,
      "outputs": [
        {
          "output_type": "stream",
          "name": "stdout",
          "text": [
            "Enter 1st side measurement: 85.5\n",
            "Enter 2nd side measurement: 45.5\n",
            "Enter 3rd side measurement: 150\n",
            "Perimeter of triangle is 281.0\n"
          ]
        }
      ]
    },
    {
      "cell_type": "markdown",
      "source": [
        "## Square number\n",
        "Ask the user for a number and print its square (the product of the number times itself)."
      ],
      "metadata": {
        "id": "bz03DSKuO7Xj"
      }
    },
    {
      "cell_type": "code",
      "source": [
        "def squareMe():\n",
        "  value = int(input(\"Enter a value to square: \"))\n",
        "  print(f\"Square of {value} is {value ** 2}\");\n",
        "\n",
        "squareMe();"
      ],
      "metadata": {
        "colab": {
          "base_uri": "https://localhost:8080/"
        },
        "id": "e3seuCneO9vw",
        "outputId": "43c0c6e1-b317-4506-f766-7344bcd5fc0e"
      },
      "execution_count": 9,
      "outputs": [
        {
          "output_type": "stream",
          "name": "stdout",
          "text": [
            "Enter a value to square: 4\n",
            "Square of 4 is 16\n"
          ]
        }
      ]
    }
  ]
}