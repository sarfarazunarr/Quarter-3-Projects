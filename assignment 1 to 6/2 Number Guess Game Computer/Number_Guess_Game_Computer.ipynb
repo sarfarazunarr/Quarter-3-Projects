{
  "nbformat": 4,
  "nbformat_minor": 0,
  "metadata": {
    "colab": {
      "provenance": []
    },
    "kernelspec": {
      "name": "python3",
      "display_name": "Python 3"
    },
    "language_info": {
      "name": "python"
    }
  },
  "cells": [
    {
      "cell_type": "code",
      "execution_count": 3,
      "metadata": {
        "id": "yXejKB-f9CeZ"
      },
      "outputs": [],
      "source": [
        "import random"
      ]
    },
    {
      "cell_type": "code",
      "source": [
        "guess_range = int(input(\"Enter the last digit to which you wants to play e.g 100: \"))"
      ],
      "metadata": {
        "colab": {
          "base_uri": "https://localhost:8080/"
        },
        "id": "OLSqmQaT9GwX",
        "outputId": "17873dcf-1288-4332-8659-8d9b2fc9c6d9"
      },
      "execution_count": 4,
      "outputs": [
        {
          "name": "stdout",
          "output_type": "stream",
          "text": [
            "Enter the last digit to which you wants to play e.g 100: 100\n"
          ]
        }
      ]
    },
    {
      "cell_type": "code",
      "source": [
        "guesses = 6 # If you failed six time you will be over\n",
        "random_number = random.randint(1,guess_range)\n",
        "\n",
        "while guesses > 0:\n",
        "  print(f\"Attempt No: {guesses} / 6\")\n",
        "  guess = int(input(\"Guess a number: \"))\n",
        "  if guess == random_number:\n",
        "    print(\"You guessed it right\")\n",
        "    break\n",
        "  elif guess > random_number:\n",
        "    print(\"too high\")\n",
        "    guesses = guesses - 1\n",
        "    continue\n",
        "  elif guess < random_number:\n",
        "    print(\"too low\")\n",
        "    guesses = guesses - 1\n",
        "  else:\n",
        "    print(\"Invalid Number\")\n",
        "    guesses = guesses - 1\n",
        "\n",
        "print(f\"Original Guessed Number is {random_number}\")"
      ],
      "metadata": {
        "colab": {
          "base_uri": "https://localhost:8080/"
        },
        "id": "nbLRyzN_9Uyu",
        "outputId": "a30ef34e-5e31-4436-81c0-8c0403ce285e"
      },
      "execution_count": 8,
      "outputs": [
        {
          "output_type": "stream",
          "name": "stdout",
          "text": [
            "Attempt No: 6 / 6\n",
            "Guess a number: 12\n",
            "too low\n",
            "Attempt No: 5 / 6\n",
            "Guess a number: 50\n",
            "too high\n",
            "Attempt No: 4 / 6\n",
            "Guess a number: 30\n",
            "too high\n",
            "Attempt No: 3 / 6\n",
            "Guess a number: 20\n",
            "too low\n",
            "Attempt No: 2 / 6\n",
            "Guess a number: 25\n",
            "too low\n",
            "Attempt No: 1 / 6\n",
            "Guess a number: 28\n",
            "too high\n",
            "Original Guessed Number is 26\n"
          ]
        }
      ]
    }
  ]
}