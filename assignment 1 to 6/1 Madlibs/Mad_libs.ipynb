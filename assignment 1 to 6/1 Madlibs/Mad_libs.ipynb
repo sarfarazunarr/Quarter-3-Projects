{
  "nbformat": 4,
  "nbformat_minor": 0,
  "metadata": {
    "colab": {
      "provenance": []
    },
    "kernelspec": {
      "name": "python3",
      "display_name": "Python 3"
    },
    "language_info": {
      "name": "python"
    }
  },
  "cells": [
    {
      "cell_type": "markdown",
      "source": [
        "# MadLib\n",
        "A interactive fun game where we add our adjactives and nouns in a fill in the blank story"
      ],
      "metadata": {
        "id": "R6NssSxr165n"
      }
    },
    {
      "cell_type": "code",
      "source": [
        "print(\"Welcome to MadLib\")"
      ],
      "metadata": {
        "colab": {
          "base_uri": "https://localhost:8080/"
        },
        "id": "DhgNoT0R2ocp",
        "outputId": "fa356ade-46ce-41a1-aa6a-0dfb07d6d427"
      },
      "execution_count": 6,
      "outputs": [
        {
          "output_type": "stream",
          "name": "stdout",
          "text": [
            "Welcome to MadLib\n"
          ]
        }
      ]
    },
    {
      "cell_type": "code",
      "execution_count": 8,
      "metadata": {
        "colab": {
          "base_uri": "https://localhost:8080/"
        },
        "id": "xdoA-yaw10Nw",
        "outputId": "35df52bc-8631-41fe-a8df-7646c06c8bf6"
      },
      "outputs": [
        {
          "name": "stdout",
          "output_type": "stream",
          "text": [
            "Enter your name: Sarfaraz\n",
            "Enter an adjective: cute\n",
            "Enter another adjective: beautiful\n",
            "Enter a noun: lion\n",
            "Enter another noun: deer\n",
            "Enter a place: Jungle\n",
            "Enter a verb (past tense): saw\n",
            "Enter an adverb: lovely\n"
          ]
        }
      ],
      "source": [
        "name = input(\"Enter your name: \")\n",
        "adjective1 = input(\"Enter an adjective: \")\n",
        "adjective2 = input(\"Enter another adjective: \")\n",
        "noun1 = input(\"Enter a noun: \")\n",
        "noun2 = input(\"Enter another noun: \")\n",
        "place = input(\"Enter a place: \")\n",
        "verb = input(\"Enter a verb (past tense): \")\n",
        "adverb = input(\"Enter an adverb: \")"
      ]
    },
    {
      "cell_type": "code",
      "source": [
        "first_story = f\"Once upon a time, in a {adjective1} land far away, lived a brave knight named {name}.  \\\n",
        "This knight possessed a {adjective2} {noun1}, which was rumored to have magical properties. \\\n",
        "One day, while exploring the mystical {place}, {name} encountered a fearsome {noun2}.  \\\n",
        "{name} {verb} {adverb} at the creature, and their magical {noun1} shone brightly, causing the {noun2} to disappear in a puff of smoke. \\\n",
        "And so, {name} returned home a hero.\"\n",
        "\n",
        "\n",
        "print(\"\\nHere is your story:\\n\")\n",
        "first_story"
      ],
      "metadata": {
        "colab": {
          "base_uri": "https://localhost:8080/",
          "height": 122
        },
        "id": "Oa9IvMPa2kLX",
        "outputId": "d5aaacea-93b4-449d-ba6a-e02d0ccb9c48"
      },
      "execution_count": 9,
      "outputs": [
        {
          "output_type": "stream",
          "name": "stdout",
          "text": [
            "\n",
            "Here is your story:\n",
            "\n"
          ]
        },
        {
          "output_type": "execute_result",
          "data": {
            "text/plain": [
              "'Once upon a time, in a cute land far away, lived a brave knight named Sarfaraz.  This knight possessed a beautiful lion, which was rumored to have magical properties. One day, while exploring the mystical Jungle, Sarfaraz encountered a fearsome deer.  Sarfaraz saw lovely at the creature, and their magical lion shone brightly, causing the deer to disappear in a puff of smoke. And so, Sarfaraz returned home a hero.'"
            ],
            "application/vnd.google.colaboratory.intrinsic+json": {
              "type": "string"
            }
          },
          "metadata": {},
          "execution_count": 9
        }
      ]
    },
    {
      "cell_type": "code",
      "source": [
        "second_story = f\"In the {adjective1} kingdom of {place}, there lived a young wizard named {name}. \\\n",
        "{name}'s magical {noun1} was known throughout the land for its {adjective2} glow. \\\n",
        "One starlit night, while {name} {verb} {adverb} in the enchanted forest, {name} stumbled upon a {noun2}. \\\n",
        "The creature, radiating an eerie light, challenged {name} to a magical duel. \\\n",
        "Using the power of the {noun1}, {name} cast a spell, and the {noun2} transformed into a harmless {noun1}. \\\n",
        "From that day on, {name} became a celebrated figure, their wisdom and magic inspiring generations to come.\"\n",
        "print(\"\\nHere is your second story:\\n\")\n",
        "second_story"
      ],
      "metadata": {
        "colab": {
          "base_uri": "https://localhost:8080/",
          "height": 140
        },
        "id": "O6bZ_3IN5apG",
        "outputId": "73e45b83-fc15-4b83-f7ce-8d8b06adf6a2"
      },
      "execution_count": 10,
      "outputs": [
        {
          "output_type": "stream",
          "name": "stdout",
          "text": [
            "\n",
            "Here is your second story:\n",
            "\n"
          ]
        },
        {
          "output_type": "execute_result",
          "data": {
            "text/plain": [
              "\"In the cute kingdom of Jungle, there lived a young wizard named Sarfaraz. Sarfaraz's magical lion was known throughout the land for its beautiful glow. One starlit night, while Sarfaraz saw lovely in the enchanted forest, Sarfaraz stumbled upon a deer. The creature, radiating an eerie light, challenged Sarfaraz to a magical duel. Using the power of the lion, Sarfaraz cast a spell, and the deer transformed into a harmless lion. From that day on, Sarfaraz became a celebrated figure, their wisdom and magic inspiring generations to come.\""
            ],
            "application/vnd.google.colaboratory.intrinsic+json": {
              "type": "string"
            }
          },
          "metadata": {},
          "execution_count": 10
        }
      ]
    }
  ]
}