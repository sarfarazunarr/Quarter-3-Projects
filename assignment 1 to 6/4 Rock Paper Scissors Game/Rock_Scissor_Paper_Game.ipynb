{
  "nbformat": 4,
  "nbformat_minor": 0,
  "metadata": {
    "colab": {
      "provenance": []
    },
    "kernelspec": {
      "name": "python3",
      "display_name": "Python 3"
    },
    "language_info": {
      "name": "python"
    }
  },
  "cells": [
    {
      "cell_type": "markdown",
      "source": [
        "# Rock Paper Scissor Game\n",
        "This is a simple game where first user will take one thing from (Rock/Paper/Scissor) and then computer will get random from them and then the result will be based on following rules:\n",
        "### Game Rules\n",
        "* Rock: Represented by a closed fist.\n",
        "* Paper: Represented by a flat hand with fingers together.\n",
        "* Scissors: Represented by a \"V\" shape made with the index and middle fingers.\n",
        "\n",
        "### Winning Rules\n",
        "* **Rock beats Scissors:** Rock smashes scissors, so rock wins.\n",
        "* **Scissors beats Paper:** Scissors cut paper, so scissors win.\n",
        "* **Paper beats Rock:** Paper covers rock, so paper wins.\n",
        "\n",
        "### Drawing Rules\n",
        "* **Same Choice**: If both players choose the same option (rock, paper, or scissors), the game is a tie."
      ],
      "metadata": {
        "id": "6_nq7mHUNPkG"
      }
    },
    {
      "cell_type": "code",
      "source": [
        "import random\n",
        "print(\"Welcome to the Game!\")"
      ],
      "metadata": {
        "colab": {
          "base_uri": "https://localhost:8080/"
        },
        "id": "ZQJoD7RONrFI",
        "outputId": "57804922-c462-43df-8550-a8bfebf2d953"
      },
      "execution_count": 1,
      "outputs": [
        {
          "output_type": "stream",
          "name": "stdout",
          "text": [
            "Welcome to the Game!\n"
          ]
        }
      ]
    },
    {
      "cell_type": "code",
      "source": [
        "while True:\n",
        "  user = input(\"Take one (rock/paper/scissors) or q for quit: \").lower();\n",
        "\n",
        "  if(user == 'q'):\n",
        "    print(\"You ended the game!\")\n",
        "    break;\n",
        "\n",
        "  choices = [\"rock\", \"paper\", \"scissors\"]\n",
        "  if user not in choices:\n",
        "    print(\"Invalid choice\")\n",
        "    continue\n",
        "  computer = random.choice(choices)\n",
        "  print(f\"Computer Chooses {computer}\")\n",
        "\n",
        "  if user == computer:\n",
        "      print(f\"Both players selected {user}. It's a tie!\")\n",
        "  elif user == \"rock\":\n",
        "      if computer == \"scissors\":\n",
        "          print(\"Rock smashes scissors! User wins!\")\n",
        "      else:\n",
        "          print(\"Paper covers rock! Computer wins!\")\n",
        "  elif user == \"paper\":\n",
        "       if computer == \"rock\":\n",
        "          print(\"Paper covers rock! User wins!\")\n",
        "       else:\n",
        "          print(\"Scissors cuts paper! Computer wins!\")\n",
        "  elif user == \"scissors\":\n",
        "       if computer == \"paper\":\n",
        "          print(\"Scissors cuts paper! User wins!\")\n",
        "       else:\n",
        "          print(\"Rock smashes scissors! Computer wins!\")\n"
      ],
      "metadata": {
        "colab": {
          "base_uri": "https://localhost:8080/"
        },
        "id": "Ap_FYGm7OG8N",
        "outputId": "e2c829d6-51df-4d2b-ef5e-e173e8ccc5bb"
      },
      "execution_count": 6,
      "outputs": [
        {
          "output_type": "stream",
          "name": "stdout",
          "text": [
            "Take one (rock/paper/scissors) or q for quit: rock\n",
            "Computer Chooses scissors\n",
            "Rock smashes scissors! User wins!\n",
            "Take one (rock/paper/scissors) or q for quit: paper\n",
            "Computer Chooses scissors\n",
            "Scissors cuts paper! Computer wins!\n",
            "Take one (rock/paper/scissors) or q for quit: hello\n",
            "Invalid choice\n",
            "Take one (rock/paper/scissors) or q for quit: scissors\n",
            "Computer Chooses rock\n",
            "Rock smashes scissors! Computer wins!\n",
            "Take one (rock/paper/scissors) or q for quit: paper\n",
            "Computer Chooses scissors\n",
            "Scissors cuts paper! Computer wins!\n",
            "Take one (rock/paper/scissors) or q for quit: scissors\n",
            "Computer Chooses scissors\n",
            "Both players selected scissors. It's a tie!\n",
            "Take one (rock/paper/scissors) or q for quit: paper\n",
            "Computer Chooses scissors\n",
            "Scissors cuts paper! Computer wins!\n",
            "Take one (rock/paper/scissors) or q for quit: rock\n",
            "Computer Chooses rock\n",
            "Both players selected rock. It's a tie!\n",
            "Take one (rock/paper/scissors) or q for quit: rock\n",
            "Computer Chooses scissors\n",
            "Rock smashes scissors! User wins!\n",
            "Take one (rock/paper/scissors) or q for quit: q\n",
            "You ended the game!\n"
          ]
        }
      ]
    }
  ]
}