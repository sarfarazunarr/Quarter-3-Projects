{
  "nbformat": 4,
  "nbformat_minor": 0,
  "metadata": {
    "colab": {
      "provenance": []
    },
    "kernelspec": {
      "name": "python3",
      "display_name": "Python 3"
    },
    "language_info": {
      "name": "python"
    }
  },
  "cells": [
    {
      "cell_type": "markdown",
      "source": [
        "# Random Password Generator\n",
        "Here is a simple python password generator it will generate random password according to the range assigned by user."
      ],
      "metadata": {
        "id": "7HUg4QsKXKGv"
      }
    },
    {
      "cell_type": "code",
      "execution_count": 1,
      "metadata": {
        "id": "D8SbnpHxXIUs"
      },
      "outputs": [],
      "source": [
        "import random # For generating random index"
      ]
    },
    {
      "cell_type": "code",
      "source": [
        "words = \"a,b,c,d,e,f,g,g,h,i,j,k,l,m,no,p,q,r,s,t,u,v,w,x,y,z,1,2,3,4,5,6,7,8,9,!,@,#,$,%,&,*,-,_,=,+\"\n",
        "word_list = words.split(',')"
      ],
      "metadata": {
        "id": "P5DmHgtqXYfL"
      },
      "execution_count": 22,
      "outputs": []
    },
    {
      "cell_type": "code",
      "source": [
        "pass_length = int(input(\"Enter length of password: \"))"
      ],
      "metadata": {
        "colab": {
          "base_uri": "https://localhost:8080/"
        },
        "id": "LjjHX5Q6XeCh",
        "outputId": "8279fa35-d926-47ee-8931-c0e7baf6ce68"
      },
      "execution_count": 5,
      "outputs": [
        {
          "name": "stdout",
          "output_type": "stream",
          "text": [
            "Enter length of password: 10\n"
          ]
        }
      ]
    },
    {
      "cell_type": "code",
      "source": [
        "password = \"\"\n",
        "length_of_words = len(word_list)"
      ],
      "metadata": {
        "id": "S6BKsQfCYFGd"
      },
      "execution_count": 23,
      "outputs": []
    },
    {
      "cell_type": "code",
      "source": [
        "for i in range(pass_length):\n",
        "  random_index = random.randint(0, 45)\n",
        "  password += word_list[random_index]\n",
        "\n",
        "print(f\"Your Password is {password}\")\n",
        "password = \"\""
      ],
      "metadata": {
        "colab": {
          "base_uri": "https://localhost:8080/"
        },
        "id": "jHHSof6WX-Xr",
        "outputId": "8ab83c24-a5c0-4f90-a0c7-e0bca137e0b6"
      },
      "execution_count": 25,
      "outputs": [
        {
          "output_type": "stream",
          "name": "stdout",
          "text": [
            "Your Password is 3gz!ud%@w%\n"
          ]
        }
      ]
    }
  ]
}