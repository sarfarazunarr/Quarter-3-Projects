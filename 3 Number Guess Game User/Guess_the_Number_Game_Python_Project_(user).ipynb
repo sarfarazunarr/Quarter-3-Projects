{
  "nbformat": 4,
  "nbformat_minor": 0,
  "metadata": {
    "colab": {
      "provenance": []
    },
    "kernelspec": {
      "name": "python3",
      "display_name": "Python 3"
    },
    "language_info": {
      "name": "python"
    }
  },
  "cells": [
    {
      "cell_type": "markdown",
      "source": [
        "# Guess the number game python (user)\n",
        "In this game the user will keep a number in his mind and the computer has to guess the number. And user will provide feedback that weather the given number is correct or not. And the computer will increase or decrease the number according to that."
      ],
      "metadata": {
        "id": "iZZzyLG0HeVp"
      }
    },
    {
      "cell_type": "code",
      "execution_count": 9,
      "metadata": {
        "colab": {
          "base_uri": "https://localhost:8080/"
        },
        "id": "6GwZl3OAAwYw",
        "outputId": "1afb9afc-d4d8-45c3-cbef-79c4d672a5ad"
      },
      "outputs": [
        {
          "name": "stdout",
          "output_type": "stream",
          "text": [
            "Think of a number between 1 and 100.\n",
            "I'll try to guess it. After each guess, tell me if it's\n",
            "too high, too low, or correct.\n",
            "Tell your number for record13\n"
          ]
        }
      ],
      "source": [
        "print(\"Think of a number between 1 and 100.\")\n",
        "print(\"I'll try to guess it. After each guess, tell me if it's\")\n",
        "print(\"too high, too low, or correct.\")\n",
        "record = int(input(\"Tell your number for record\"))"
      ]
    },
    {
      "cell_type": "code",
      "source": [
        "attempts = 10\n",
        "low = 1\n",
        "high = 100 # range\n",
        "guessed_numbers = [];\n",
        "while attempts > 0:\n",
        "  guess = low + high // 2\n",
        "\n",
        "  while guess in guessed_numbers:\n",
        "    guess += 1\n",
        "\n",
        "  feedback = input(f\"Is {guess} too high (H), too low (L), or correct (C)? \")\n",
        "  if(feedback.upper() == \"H\"):\n",
        "    high = guess - 1\n",
        "    attempts -= 1\n",
        "    guessed_numbers.append(guess)\n",
        "  elif(feedback.upper() == \"L\"):\n",
        "    low = guess + 1\n",
        "    attempts -= 1\n",
        "    guessed_numbers.append(guess)\n",
        "  elif(feedback.upper() == \"C\"):\n",
        "    print(\"I found it!\")\n",
        "    break\n",
        "else:\n",
        "  print(\"You ran out of attempts!\")\n",
        "\n",
        "print(\"Correct Your Number: {}\".format(record))"
      ],
      "metadata": {
        "colab": {
          "base_uri": "https://localhost:8080/"
        },
        "id": "RC86Ek_AIL7Q",
        "outputId": "64dcb28d-28b7-4496-8f12-308c687d86dc"
      },
      "execution_count": 10,
      "outputs": [
        {
          "output_type": "stream",
          "name": "stdout",
          "text": [
            "Is 51 too high (H), too low (L), or correct (C)? H\n",
            "Is 26 too high (H), too low (L), or correct (C)? H\n",
            "Is 13 too high (H), too low (L), or correct (C)? C\n",
            "I found it!\n",
            "Correct Your Number: 13\n"
          ]
        }
      ]
    }
  ]
}